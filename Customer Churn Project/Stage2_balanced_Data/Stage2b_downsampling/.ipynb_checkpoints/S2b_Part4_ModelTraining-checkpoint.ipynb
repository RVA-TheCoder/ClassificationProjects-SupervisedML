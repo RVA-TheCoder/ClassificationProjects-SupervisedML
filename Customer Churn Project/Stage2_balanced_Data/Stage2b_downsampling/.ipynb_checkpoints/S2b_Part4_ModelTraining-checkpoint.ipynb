{
 "cells": [
  {
   "cell_type": "code",
   "execution_count": 1,
   "id": "53b9330c",
   "metadata": {},
   "outputs": [],
   "source": [
    "import numpy as np\n",
    "import pandas as pd\n",
    "import matplotlib.pyplot as plt\n",
    "import seaborn as sns"
   ]
  },
  {
   "cell_type": "code",
   "execution_count": null,
   "id": "00a4874f",
   "metadata": {},
   "outputs": [],
   "source": []
  },
  {
   "cell_type": "markdown",
   "id": "fabd8efc",
   "metadata": {},
   "source": [
    "## <span style = 'background :lightblue'>STEP 1 : Import Transformed Dataset</span>"
   ]
  },
  {
   "cell_type": "code",
   "execution_count": null,
   "id": "b28f5d54",
   "metadata": {},
   "outputs": [],
   "source": []
  },
  {
   "cell_type": "code",
   "execution_count": 2,
   "id": "10e74b9e",
   "metadata": {},
   "outputs": [],
   "source": [
    "filepath_train = r\"S2b_Part2_FE_Pipeline_downsampling_Train_DS.csv\"\n",
    "filepath_test = r\"S2b_Part2_FE_Pipeline_downsampling_Test_DS.csv\""
   ]
  },
  {
   "cell_type": "code",
   "execution_count": null,
   "id": "c23a9c93",
   "metadata": {},
   "outputs": [],
   "source": []
  },
  {
   "cell_type": "code",
   "execution_count": 3,
   "id": "6ec6c881",
   "metadata": {},
   "outputs": [],
   "source": [
    "d_train = pd.read_csv(filepath_train  ,index_col= 0 , header= 0)\n",
    "d_test = pd.read_csv(filepath_test  ,index_col= 0 , header= 0)"
   ]
  },
  {
   "cell_type": "code",
   "execution_count": null,
   "id": "e596e797",
   "metadata": {},
   "outputs": [],
   "source": []
  },
  {
   "cell_type": "code",
   "execution_count": 4,
   "id": "bc5bba44",
   "metadata": {},
   "outputs": [
    {
     "data": {
      "text/html": [
       "<div>\n",
       "<style scoped>\n",
       "    .dataframe tbody tr th:only-of-type {\n",
       "        vertical-align: middle;\n",
       "    }\n",
       "\n",
       "    .dataframe tbody tr th {\n",
       "        vertical-align: top;\n",
       "    }\n",
       "\n",
       "    .dataframe thead th {\n",
       "        text-align: right;\n",
       "    }\n",
       "</style>\n",
       "<table border=\"1\" class=\"dataframe\">\n",
       "  <thead>\n",
       "    <tr style=\"text-align: right;\">\n",
       "      <th></th>\n",
       "      <th>MonthlyCharges</th>\n",
       "      <th>TotalCharges</th>\n",
       "      <th>gender_Female</th>\n",
       "      <th>gender_Male</th>\n",
       "      <th>SeniorCitizen_NO</th>\n",
       "      <th>SeniorCitizen_Yes</th>\n",
       "      <th>Partner_No</th>\n",
       "      <th>Partner_Yes</th>\n",
       "      <th>Dependents_No</th>\n",
       "      <th>Dependents_Yes</th>\n",
       "      <th>...</th>\n",
       "      <th>Contract_Month-to-month</th>\n",
       "      <th>Contract_One year</th>\n",
       "      <th>Contract_Two year</th>\n",
       "      <th>PaperlessBilling_No</th>\n",
       "      <th>PaperlessBilling_Yes</th>\n",
       "      <th>PaymentMethod_Bank transfer (automatic)</th>\n",
       "      <th>PaymentMethod_Credit card (automatic)</th>\n",
       "      <th>PaymentMethod_Electronic check</th>\n",
       "      <th>PaymentMethod_Mailed check</th>\n",
       "      <th>Churn</th>\n",
       "    </tr>\n",
       "  </thead>\n",
       "  <tbody>\n",
       "    <tr>\n",
       "      <th>0</th>\n",
       "      <td>-0.338701</td>\n",
       "      <td>0.049061</td>\n",
       "      <td>0</td>\n",
       "      <td>1</td>\n",
       "      <td>1</td>\n",
       "      <td>0</td>\n",
       "      <td>0</td>\n",
       "      <td>1</td>\n",
       "      <td>1</td>\n",
       "      <td>0</td>\n",
       "      <td>...</td>\n",
       "      <td>0</td>\n",
       "      <td>0</td>\n",
       "      <td>1</td>\n",
       "      <td>1</td>\n",
       "      <td>0</td>\n",
       "      <td>1</td>\n",
       "      <td>0</td>\n",
       "      <td>0</td>\n",
       "      <td>0</td>\n",
       "      <td>0</td>\n",
       "    </tr>\n",
       "    <tr>\n",
       "      <th>1</th>\n",
       "      <td>1.030607</td>\n",
       "      <td>0.139714</td>\n",
       "      <td>1</td>\n",
       "      <td>0</td>\n",
       "      <td>1</td>\n",
       "      <td>0</td>\n",
       "      <td>1</td>\n",
       "      <td>0</td>\n",
       "      <td>1</td>\n",
       "      <td>0</td>\n",
       "      <td>...</td>\n",
       "      <td>1</td>\n",
       "      <td>0</td>\n",
       "      <td>0</td>\n",
       "      <td>0</td>\n",
       "      <td>1</td>\n",
       "      <td>1</td>\n",
       "      <td>0</td>\n",
       "      <td>0</td>\n",
       "      <td>0</td>\n",
       "      <td>0</td>\n",
       "    </tr>\n",
       "    <tr>\n",
       "      <th>2</th>\n",
       "      <td>0.147022</td>\n",
       "      <td>-0.956056</td>\n",
       "      <td>1</td>\n",
       "      <td>0</td>\n",
       "      <td>1</td>\n",
       "      <td>0</td>\n",
       "      <td>1</td>\n",
       "      <td>0</td>\n",
       "      <td>1</td>\n",
       "      <td>0</td>\n",
       "      <td>...</td>\n",
       "      <td>1</td>\n",
       "      <td>0</td>\n",
       "      <td>0</td>\n",
       "      <td>1</td>\n",
       "      <td>0</td>\n",
       "      <td>0</td>\n",
       "      <td>0</td>\n",
       "      <td>1</td>\n",
       "      <td>0</td>\n",
       "      <td>1</td>\n",
       "    </tr>\n",
       "  </tbody>\n",
       "</table>\n",
       "<p>3 rows × 52 columns</p>\n",
       "</div>"
      ],
      "text/plain": [
       "   MonthlyCharges  TotalCharges  gender_Female  gender_Male  SeniorCitizen_NO  \\\n",
       "0       -0.338701      0.049061              0            1                 1   \n",
       "1        1.030607      0.139714              1            0                 1   \n",
       "2        0.147022     -0.956056              1            0                 1   \n",
       "\n",
       "   SeniorCitizen_Yes  Partner_No  Partner_Yes  Dependents_No  Dependents_Yes  \\\n",
       "0                  0           0            1              1               0   \n",
       "1                  0           1            0              1               0   \n",
       "2                  0           1            0              1               0   \n",
       "\n",
       "   ...  Contract_Month-to-month  Contract_One year  Contract_Two year  \\\n",
       "0  ...                        0                  0                  1   \n",
       "1  ...                        1                  0                  0   \n",
       "2  ...                        1                  0                  0   \n",
       "\n",
       "   PaperlessBilling_No  PaperlessBilling_Yes  \\\n",
       "0                    1                     0   \n",
       "1                    0                     1   \n",
       "2                    1                     0   \n",
       "\n",
       "   PaymentMethod_Bank transfer (automatic)  \\\n",
       "0                                        1   \n",
       "1                                        1   \n",
       "2                                        0   \n",
       "\n",
       "   PaymentMethod_Credit card (automatic)  PaymentMethod_Electronic check  \\\n",
       "0                                      0                               0   \n",
       "1                                      0                               0   \n",
       "2                                      0                               1   \n",
       "\n",
       "   PaymentMethod_Mailed check  Churn  \n",
       "0                           0      0  \n",
       "1                           0      0  \n",
       "2                           0      1  \n",
       "\n",
       "[3 rows x 52 columns]"
      ]
     },
     "execution_count": 4,
     "metadata": {},
     "output_type": "execute_result"
    }
   ],
   "source": [
    "d_train.head(3)"
   ]
  },
  {
   "cell_type": "code",
   "execution_count": 5,
   "id": "26582a22",
   "metadata": {},
   "outputs": [
    {
     "data": {
      "text/html": [
       "<div>\n",
       "<style scoped>\n",
       "    .dataframe tbody tr th:only-of-type {\n",
       "        vertical-align: middle;\n",
       "    }\n",
       "\n",
       "    .dataframe tbody tr th {\n",
       "        vertical-align: top;\n",
       "    }\n",
       "\n",
       "    .dataframe thead th {\n",
       "        text-align: right;\n",
       "    }\n",
       "</style>\n",
       "<table border=\"1\" class=\"dataframe\">\n",
       "  <thead>\n",
       "    <tr style=\"text-align: right;\">\n",
       "      <th></th>\n",
       "      <th>MonthlyCharges</th>\n",
       "      <th>TotalCharges</th>\n",
       "      <th>gender_Female</th>\n",
       "      <th>gender_Male</th>\n",
       "      <th>SeniorCitizen_NO</th>\n",
       "      <th>SeniorCitizen_Yes</th>\n",
       "      <th>Partner_No</th>\n",
       "      <th>Partner_Yes</th>\n",
       "      <th>Dependents_No</th>\n",
       "      <th>Dependents_Yes</th>\n",
       "      <th>...</th>\n",
       "      <th>Contract_Month-to-month</th>\n",
       "      <th>Contract_One year</th>\n",
       "      <th>Contract_Two year</th>\n",
       "      <th>PaperlessBilling_No</th>\n",
       "      <th>PaperlessBilling_Yes</th>\n",
       "      <th>PaymentMethod_Bank transfer (automatic)</th>\n",
       "      <th>PaymentMethod_Credit card (automatic)</th>\n",
       "      <th>PaymentMethod_Electronic check</th>\n",
       "      <th>PaymentMethod_Mailed check</th>\n",
       "      <th>Churn</th>\n",
       "    </tr>\n",
       "  </thead>\n",
       "  <tbody>\n",
       "    <tr>\n",
       "      <th>0</th>\n",
       "      <td>-1.457688</td>\n",
       "      <td>-0.536472</td>\n",
       "      <td>0</td>\n",
       "      <td>1</td>\n",
       "      <td>1</td>\n",
       "      <td>0</td>\n",
       "      <td>0</td>\n",
       "      <td>1</td>\n",
       "      <td>1</td>\n",
       "      <td>0</td>\n",
       "      <td>...</td>\n",
       "      <td>0</td>\n",
       "      <td>0</td>\n",
       "      <td>1</td>\n",
       "      <td>1</td>\n",
       "      <td>0</td>\n",
       "      <td>0</td>\n",
       "      <td>0</td>\n",
       "      <td>0</td>\n",
       "      <td>1</td>\n",
       "      <td>0</td>\n",
       "    </tr>\n",
       "    <tr>\n",
       "      <th>1</th>\n",
       "      <td>-1.480896</td>\n",
       "      <td>-0.374264</td>\n",
       "      <td>0</td>\n",
       "      <td>1</td>\n",
       "      <td>1</td>\n",
       "      <td>0</td>\n",
       "      <td>1</td>\n",
       "      <td>0</td>\n",
       "      <td>1</td>\n",
       "      <td>0</td>\n",
       "      <td>...</td>\n",
       "      <td>0</td>\n",
       "      <td>0</td>\n",
       "      <td>1</td>\n",
       "      <td>1</td>\n",
       "      <td>0</td>\n",
       "      <td>1</td>\n",
       "      <td>0</td>\n",
       "      <td>0</td>\n",
       "      <td>0</td>\n",
       "      <td>0</td>\n",
       "    </tr>\n",
       "    <tr>\n",
       "      <th>2</th>\n",
       "      <td>0.142049</td>\n",
       "      <td>0.810810</td>\n",
       "      <td>0</td>\n",
       "      <td>1</td>\n",
       "      <td>1</td>\n",
       "      <td>0</td>\n",
       "      <td>1</td>\n",
       "      <td>0</td>\n",
       "      <td>1</td>\n",
       "      <td>0</td>\n",
       "      <td>...</td>\n",
       "      <td>0</td>\n",
       "      <td>1</td>\n",
       "      <td>0</td>\n",
       "      <td>1</td>\n",
       "      <td>0</td>\n",
       "      <td>1</td>\n",
       "      <td>0</td>\n",
       "      <td>0</td>\n",
       "      <td>0</td>\n",
       "      <td>0</td>\n",
       "    </tr>\n",
       "  </tbody>\n",
       "</table>\n",
       "<p>3 rows × 52 columns</p>\n",
       "</div>"
      ],
      "text/plain": [
       "   MonthlyCharges  TotalCharges  gender_Female  gender_Male  SeniorCitizen_NO  \\\n",
       "0       -1.457688     -0.536472              0            1                 1   \n",
       "1       -1.480896     -0.374264              0            1                 1   \n",
       "2        0.142049      0.810810              0            1                 1   \n",
       "\n",
       "   SeniorCitizen_Yes  Partner_No  Partner_Yes  Dependents_No  Dependents_Yes  \\\n",
       "0                  0           0            1              1               0   \n",
       "1                  0           1            0              1               0   \n",
       "2                  0           1            0              1               0   \n",
       "\n",
       "   ...  Contract_Month-to-month  Contract_One year  Contract_Two year  \\\n",
       "0  ...                        0                  0                  1   \n",
       "1  ...                        0                  0                  1   \n",
       "2  ...                        0                  1                  0   \n",
       "\n",
       "   PaperlessBilling_No  PaperlessBilling_Yes  \\\n",
       "0                    1                     0   \n",
       "1                    1                     0   \n",
       "2                    1                     0   \n",
       "\n",
       "   PaymentMethod_Bank transfer (automatic)  \\\n",
       "0                                        0   \n",
       "1                                        1   \n",
       "2                                        1   \n",
       "\n",
       "   PaymentMethod_Credit card (automatic)  PaymentMethod_Electronic check  \\\n",
       "0                                      0                               0   \n",
       "1                                      0                               0   \n",
       "2                                      0                               0   \n",
       "\n",
       "   PaymentMethod_Mailed check  Churn  \n",
       "0                           1      0  \n",
       "1                           0      0  \n",
       "2                           0      0  \n",
       "\n",
       "[3 rows x 52 columns]"
      ]
     },
     "execution_count": 5,
     "metadata": {},
     "output_type": "execute_result"
    }
   ],
   "source": [
    "d_test.head(3)"
   ]
  },
  {
   "cell_type": "code",
   "execution_count": null,
   "id": "cd51e764",
   "metadata": {},
   "outputs": [],
   "source": []
  },
  {
   "cell_type": "markdown",
   "id": "c08379cb",
   "metadata": {},
   "source": [
    "## <span style = 'background :lightblue'>STEP 2 : Train - Test Split</span>"
   ]
  },
  {
   "cell_type": "code",
   "execution_count": null,
   "id": "006514d4",
   "metadata": {},
   "outputs": [],
   "source": []
  },
  {
   "cell_type": "code",
   "execution_count": 6,
   "id": "c6bb7372",
   "metadata": {},
   "outputs": [],
   "source": [
    "X_train = d_train.drop(labels= ['Churn'] , axis = 1)\n",
    "y_train = d_train['Churn']\n",
    "\n",
    "X_test = d_test.drop(labels= ['Churn'] , axis = 1)\n",
    "y_test = d_test['Churn']"
   ]
  },
  {
   "cell_type": "code",
   "execution_count": null,
   "id": "8389fe8f",
   "metadata": {},
   "outputs": [],
   "source": []
  },
  {
   "cell_type": "code",
   "execution_count": 7,
   "id": "ed8b05b0",
   "metadata": {},
   "outputs": [
    {
     "data": {
      "text/plain": [
       "((5634, 51), (5634,))"
      ]
     },
     "execution_count": 7,
     "metadata": {},
     "output_type": "execute_result"
    }
   ],
   "source": [
    "X_train.shape , y_train.shape"
   ]
  },
  {
   "cell_type": "code",
   "execution_count": 8,
   "id": "b65c102c",
   "metadata": {},
   "outputs": [
    {
     "data": {
      "text/plain": [
       "((1409, 51), (1409,))"
      ]
     },
     "execution_count": 8,
     "metadata": {},
     "output_type": "execute_result"
    }
   ],
   "source": [
    "X_test.shape , y_test.shape"
   ]
  },
  {
   "cell_type": "code",
   "execution_count": null,
   "id": "40f22657",
   "metadata": {},
   "outputs": [],
   "source": []
  },
  {
   "cell_type": "code",
   "execution_count": 9,
   "id": "e37a8ff3",
   "metadata": {},
   "outputs": [
    {
     "data": {
      "text/plain": [
       "0    4149\n",
       "1    1485\n",
       "Name: Churn, dtype: int64"
      ]
     },
     "execution_count": 9,
     "metadata": {},
     "output_type": "execute_result"
    }
   ],
   "source": [
    "y_train.value_counts()"
   ]
  },
  {
   "cell_type": "code",
   "execution_count": 10,
   "id": "871636e0",
   "metadata": {},
   "outputs": [
    {
     "data": {
      "text/plain": [
       "0    1025\n",
       "1     384\n",
       "Name: Churn, dtype: int64"
      ]
     },
     "execution_count": 10,
     "metadata": {},
     "output_type": "execute_result"
    }
   ],
   "source": [
    "y_test.value_counts()"
   ]
  },
  {
   "cell_type": "code",
   "execution_count": null,
   "id": "fa050763",
   "metadata": {},
   "outputs": [],
   "source": []
  },
  {
   "cell_type": "markdown",
   "id": "aaa773c2",
   "metadata": {},
   "source": [
    "## <span style = 'background :lightblue'>STEP 3 : Down-sampling of Train and Test DataSet</span>"
   ]
  },
  {
   "cell_type": "code",
   "execution_count": 11,
   "id": "ff3a2252",
   "metadata": {},
   "outputs": [],
   "source": [
    "import warnings\n",
    "warnings.filterwarnings('ignore')"
   ]
  },
  {
   "cell_type": "code",
   "execution_count": 12,
   "id": "e87b5b7d",
   "metadata": {},
   "outputs": [],
   "source": [
    "from imblearn.under_sampling import EditedNearestNeighbours"
   ]
  },
  {
   "cell_type": "code",
   "execution_count": null,
   "id": "b4dbcf70",
   "metadata": {},
   "outputs": [],
   "source": []
  },
  {
   "cell_type": "code",
   "execution_count": 13,
   "id": "081ff29f",
   "metadata": {},
   "outputs": [],
   "source": [
    "# ENN :  EditedNearestNeighbours\n",
    "def ENN(X_DF , y_ser ,samp_strategy ):\n",
    "    \n",
    "    # Define EditedNearestNeighbours object with sampling_strategy\n",
    "    enn = EditedNearestNeighbours(sampling_strategy=samp_strategy )\n",
    "\n",
    "    \n",
    "    # fit and apply the transform\n",
    "    X_DF_enn_res, y_ser_enn_res = enn.fit_resample(X_DF, y_ser)\n",
    "    \n",
    "    #print(under.sampling_strategy)\n",
    "    return (X_DF_enn_res, y_ser_enn_res)"
   ]
  },
  {
   "cell_type": "code",
   "execution_count": null,
   "id": "d2b20231",
   "metadata": {},
   "outputs": [],
   "source": []
  },
  {
   "cell_type": "code",
   "execution_count": 14,
   "id": "c61995d6",
   "metadata": {},
   "outputs": [],
   "source": [
    "X_train_res, y_train_res = ENN(X_DF = X_train ,  y_ser = y_train , samp_strategy = \"majority\")"
   ]
  },
  {
   "cell_type": "code",
   "execution_count": 15,
   "id": "46d14b2b",
   "metadata": {},
   "outputs": [],
   "source": [
    "X_test_res , y_test_res = ENN(X_DF = X_test ,  y_ser = y_test , samp_strategy = \"majority\")"
   ]
  },
  {
   "cell_type": "code",
   "execution_count": null,
   "id": "5f4692a0",
   "metadata": {},
   "outputs": [],
   "source": []
  },
  {
   "cell_type": "code",
   "execution_count": 16,
   "id": "7bb9be21",
   "metadata": {},
   "outputs": [
    {
     "data": {
      "text/plain": [
       "((3983, 51), (3983,))"
      ]
     },
     "execution_count": 16,
     "metadata": {},
     "output_type": "execute_result"
    }
   ],
   "source": [
    "X_train_res.shape , y_train_res.shape"
   ]
  },
  {
   "cell_type": "code",
   "execution_count": 17,
   "id": "b34f0270",
   "metadata": {},
   "outputs": [
    {
     "data": {
      "text/plain": [
       "((957, 51), (957,))"
      ]
     },
     "execution_count": 17,
     "metadata": {},
     "output_type": "execute_result"
    }
   ],
   "source": [
    "X_test_res.shape , y_test_res.shape"
   ]
  },
  {
   "cell_type": "code",
   "execution_count": null,
   "id": "ca891a54",
   "metadata": {},
   "outputs": [],
   "source": []
  },
  {
   "cell_type": "code",
   "execution_count": 18,
   "id": "25fbb781",
   "metadata": {},
   "outputs": [
    {
     "data": {
      "text/plain": [
       "0    2498\n",
       "1    1485\n",
       "Name: Churn, dtype: int64"
      ]
     },
     "execution_count": 18,
     "metadata": {},
     "output_type": "execute_result"
    }
   ],
   "source": [
    "y_train_res.value_counts()"
   ]
  },
  {
   "cell_type": "code",
   "execution_count": 19,
   "id": "c278ae73",
   "metadata": {},
   "outputs": [
    {
     "data": {
      "text/plain": [
       "0    573\n",
       "1    384\n",
       "Name: Churn, dtype: int64"
      ]
     },
     "execution_count": 19,
     "metadata": {},
     "output_type": "execute_result"
    }
   ],
   "source": [
    "y_test_res.value_counts()"
   ]
  },
  {
   "cell_type": "code",
   "execution_count": null,
   "id": "5a2745e1",
   "metadata": {},
   "outputs": [],
   "source": []
  },
  {
   "cell_type": "markdown",
   "id": "33d35686",
   "metadata": {},
   "source": [
    "## <span style = 'background :lightblue'>STEP 4 : Training models</span>"
   ]
  },
  {
   "cell_type": "code",
   "execution_count": null,
   "id": "60f20438",
   "metadata": {},
   "outputs": [],
   "source": []
  },
  {
   "cell_type": "code",
   "execution_count": 20,
   "id": "aacd0594",
   "metadata": {},
   "outputs": [],
   "source": [
    "from sklearn.metrics import classification_report , accuracy_score"
   ]
  },
  {
   "cell_type": "code",
   "execution_count": null,
   "id": "b6a69b25",
   "metadata": {},
   "outputs": [],
   "source": []
  },
  {
   "cell_type": "code",
   "execution_count": 21,
   "id": "f4443046",
   "metadata": {},
   "outputs": [],
   "source": [
    "from sklearn.linear_model import LogisticRegression\n",
    "from sklearn.svm import SVC\n",
    "from sklearn.naive_bayes import GaussianNB\n",
    "from sklearn.tree import DecisionTreeClassifier\n",
    "from sklearn.ensemble import RandomForestClassifier"
   ]
  },
  {
   "cell_type": "code",
   "execution_count": null,
   "id": "f06750dc",
   "metadata": {},
   "outputs": [],
   "source": []
  },
  {
   "cell_type": "code",
   "execution_count": 22,
   "id": "581328dd",
   "metadata": {},
   "outputs": [],
   "source": [
    "models = [LogisticRegression(max_iter=1000), SVC(), GaussianNB(),DecisionTreeClassifier(), RandomForestClassifier()]"
   ]
  },
  {
   "cell_type": "code",
   "execution_count": null,
   "id": "beb237af",
   "metadata": {},
   "outputs": [],
   "source": []
  },
  {
   "cell_type": "code",
   "execution_count": 23,
   "id": "f53f14be",
   "metadata": {
    "scrolled": true
   },
   "outputs": [],
   "source": [
    "def ModelTraining(ML_models , X_train ,y_train ,X_test,y_test):\n",
    "    \n",
    "    for model in ML_models :\n",
    "\n",
    "        model.fit(X_train_res.values, y_train_res)\n",
    "        y_hat_train = model.predict(X_train_res.values)\n",
    "        y_hat_test = model.predict(X_test_res.values)\n",
    "\n",
    "        print(f\"******************* \\33[1m{str(model)}\\33[0m *******************\\n\")\n",
    "\n",
    "        print(\"\\33[1mTraining classification Report :\\33[0m \\n\")\n",
    "        print(classification_report(y_train_res,y_hat_train ,zero_division = 1))\n",
    "\n",
    "        print() \n",
    "\n",
    "        print(\"\\33[1mTesting classification Report :\\33[0m \\n\")\n",
    "        print(classification_report(y_test_res,y_hat_test , zero_division = 1))\n",
    "\n",
    "        print()\n",
    "        "
   ]
  },
  {
   "cell_type": "code",
   "execution_count": 24,
   "id": "bb5a8c67",
   "metadata": {
    "scrolled": false
   },
   "outputs": [
    {
     "name": "stdout",
     "output_type": "stream",
     "text": [
      "******************* \u001b[1mLogisticRegression(max_iter=1000)\u001b[0m *******************\n",
      "\n",
      "\u001b[1mTraining classification Report :\u001b[0m \n",
      "\n",
      "              precision    recall  f1-score   support\n",
      "\n",
      "           0       0.89      0.91      0.90      2498\n",
      "           1       0.85      0.82      0.83      1485\n",
      "\n",
      "    accuracy                           0.88      3983\n",
      "   macro avg       0.87      0.87      0.87      3983\n",
      "weighted avg       0.88      0.88      0.88      3983\n",
      "\n",
      "\n",
      "\u001b[1mTesting classification Report :\u001b[0m \n",
      "\n",
      "              precision    recall  f1-score   support\n",
      "\n",
      "           0       0.87      0.90      0.89       573\n",
      "           1       0.84      0.80      0.82       384\n",
      "\n",
      "    accuracy                           0.86       957\n",
      "   macro avg       0.86      0.85      0.85       957\n",
      "weighted avg       0.86      0.86      0.86       957\n",
      "\n",
      "\n",
      "******************* \u001b[1mSVC()\u001b[0m *******************\n",
      "\n",
      "\u001b[1mTraining classification Report :\u001b[0m \n",
      "\n",
      "              precision    recall  f1-score   support\n",
      "\n",
      "           0       0.90      0.96      0.93      2498\n",
      "           1       0.92      0.82      0.87      1485\n",
      "\n",
      "    accuracy                           0.91      3983\n",
      "   macro avg       0.91      0.89      0.90      3983\n",
      "weighted avg       0.91      0.91      0.91      3983\n",
      "\n",
      "\n",
      "\u001b[1mTesting classification Report :\u001b[0m \n",
      "\n",
      "              precision    recall  f1-score   support\n",
      "\n",
      "           0       0.85      0.91      0.88       573\n",
      "           1       0.86      0.76      0.81       384\n",
      "\n",
      "    accuracy                           0.85       957\n",
      "   macro avg       0.85      0.84      0.84       957\n",
      "weighted avg       0.85      0.85      0.85       957\n",
      "\n",
      "\n",
      "******************* \u001b[1mGaussianNB()\u001b[0m *******************\n",
      "\n",
      "\u001b[1mTraining classification Report :\u001b[0m \n",
      "\n",
      "              precision    recall  f1-score   support\n",
      "\n",
      "           0       0.91      0.83      0.87      2498\n",
      "           1       0.75      0.87      0.80      1485\n",
      "\n",
      "    accuracy                           0.84      3983\n",
      "   macro avg       0.83      0.85      0.84      3983\n",
      "weighted avg       0.85      0.84      0.84      3983\n",
      "\n",
      "\n",
      "\u001b[1mTesting classification Report :\u001b[0m \n",
      "\n",
      "              precision    recall  f1-score   support\n",
      "\n",
      "           0       0.89      0.80      0.84       573\n",
      "           1       0.74      0.85      0.79       384\n",
      "\n",
      "    accuracy                           0.82       957\n",
      "   macro avg       0.81      0.83      0.82       957\n",
      "weighted avg       0.83      0.82      0.82       957\n",
      "\n",
      "\n",
      "******************* \u001b[1mDecisionTreeClassifier()\u001b[0m *******************\n",
      "\n",
      "\u001b[1mTraining classification Report :\u001b[0m \n",
      "\n",
      "              precision    recall  f1-score   support\n",
      "\n",
      "           0       1.00      1.00      1.00      2498\n",
      "           1       1.00      1.00      1.00      1485\n",
      "\n",
      "    accuracy                           1.00      3983\n",
      "   macro avg       1.00      1.00      1.00      3983\n",
      "weighted avg       1.00      1.00      1.00      3983\n",
      "\n",
      "\n",
      "\u001b[1mTesting classification Report :\u001b[0m \n",
      "\n",
      "              precision    recall  f1-score   support\n",
      "\n",
      "           0       0.85      0.84      0.84       573\n",
      "           1       0.76      0.77      0.77       384\n",
      "\n",
      "    accuracy                           0.81       957\n",
      "   macro avg       0.80      0.80      0.80       957\n",
      "weighted avg       0.81      0.81      0.81       957\n",
      "\n",
      "\n",
      "******************* \u001b[1mRandomForestClassifier()\u001b[0m *******************\n",
      "\n",
      "\u001b[1mTraining classification Report :\u001b[0m \n",
      "\n",
      "              precision    recall  f1-score   support\n",
      "\n",
      "           0       1.00      1.00      1.00      2498\n",
      "           1       1.00      1.00      1.00      1485\n",
      "\n",
      "    accuracy                           1.00      3983\n",
      "   macro avg       1.00      1.00      1.00      3983\n",
      "weighted avg       1.00      1.00      1.00      3983\n",
      "\n",
      "\n",
      "\u001b[1mTesting classification Report :\u001b[0m \n",
      "\n",
      "              precision    recall  f1-score   support\n",
      "\n",
      "           0       0.86      0.92      0.89       573\n",
      "           1       0.86      0.78      0.82       384\n",
      "\n",
      "    accuracy                           0.86       957\n",
      "   macro avg       0.86      0.85      0.85       957\n",
      "weighted avg       0.86      0.86      0.86       957\n",
      "\n",
      "\n"
     ]
    }
   ],
   "source": [
    "ModelTraining(ML_models = models ,  X_train = X_train_res ,y_train = y_train_res ,\n",
    "              X_test = X_test_res, y_test = y_test_res)"
   ]
  },
  {
   "cell_type": "code",
   "execution_count": null,
   "id": "d14f271a",
   "metadata": {},
   "outputs": [],
   "source": []
  },
  {
   "cell_type": "code",
   "execution_count": null,
   "id": "81455cc7",
   "metadata": {},
   "outputs": [],
   "source": []
  }
 ],
 "metadata": {
  "kernelspec": {
   "display_name": "Python 3 (ipykernel)",
   "language": "python",
   "name": "python3"
  },
  "language_info": {
   "codemirror_mode": {
    "name": "ipython",
    "version": 3
   },
   "file_extension": ".py",
   "mimetype": "text/x-python",
   "name": "python",
   "nbconvert_exporter": "python",
   "pygments_lexer": "ipython3",
   "version": "3.10.9"
  }
 },
 "nbformat": 4,
 "nbformat_minor": 5
}
