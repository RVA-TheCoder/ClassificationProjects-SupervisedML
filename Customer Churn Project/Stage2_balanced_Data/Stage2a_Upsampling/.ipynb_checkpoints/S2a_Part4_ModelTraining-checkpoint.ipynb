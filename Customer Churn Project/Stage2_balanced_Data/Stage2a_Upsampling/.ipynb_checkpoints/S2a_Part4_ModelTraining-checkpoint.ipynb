{
 "cells": [
  {
   "cell_type": "code",
   "execution_count": 1,
   "id": "53b9330c",
   "metadata": {},
   "outputs": [],
   "source": [
    "import numpy as np\n",
    "import pandas as pd\n",
    "import matplotlib.pyplot as plt\n",
    "import seaborn as sns"
   ]
  },
  {
   "cell_type": "code",
   "execution_count": null,
   "id": "51c99b16",
   "metadata": {},
   "outputs": [],
   "source": []
  },
  {
   "cell_type": "markdown",
   "id": "fabd8efc",
   "metadata": {},
   "source": [
    "## <span style = 'background :lightblue'>STEP 1 : Import Transforrmed Dataset</span>"
   ]
  },
  {
   "cell_type": "code",
   "execution_count": null,
   "id": "b28f5d54",
   "metadata": {},
   "outputs": [],
   "source": []
  },
  {
   "cell_type": "code",
   "execution_count": 2,
   "id": "10e74b9e",
   "metadata": {},
   "outputs": [],
   "source": [
    "filepath_train = r\"S2a_Part2_FE_Pipeline_Train_DS.csv\"\n",
    "filepath_test = r\"S2a_Part2_FE_Pipeline_Test_DS.csv\""
   ]
  },
  {
   "cell_type": "code",
   "execution_count": null,
   "id": "c23a9c93",
   "metadata": {},
   "outputs": [],
   "source": []
  },
  {
   "cell_type": "code",
   "execution_count": 3,
   "id": "6ec6c881",
   "metadata": {},
   "outputs": [],
   "source": [
    "d_train = pd.read_csv(filepath_train  ,index_col= 0 , header= 0)\n",
    "d_test = pd.read_csv(filepath_test  ,index_col= 0 , header= 0)"
   ]
  },
  {
   "cell_type": "code",
   "execution_count": null,
   "id": "e596e797",
   "metadata": {},
   "outputs": [],
   "source": []
  },
  {
   "cell_type": "code",
   "execution_count": 4,
   "id": "bc5bba44",
   "metadata": {},
   "outputs": [
    {
     "data": {
      "text/html": [
       "<div>\n",
       "<style scoped>\n",
       "    .dataframe tbody tr th:only-of-type {\n",
       "        vertical-align: middle;\n",
       "    }\n",
       "\n",
       "    .dataframe tbody tr th {\n",
       "        vertical-align: top;\n",
       "    }\n",
       "\n",
       "    .dataframe thead th {\n",
       "        text-align: right;\n",
       "    }\n",
       "</style>\n",
       "<table border=\"1\" class=\"dataframe\">\n",
       "  <thead>\n",
       "    <tr style=\"text-align: right;\">\n",
       "      <th></th>\n",
       "      <th>MonthlyCharges</th>\n",
       "      <th>TotalCharges</th>\n",
       "      <th>gender_Female</th>\n",
       "      <th>gender_Male</th>\n",
       "      <th>SeniorCitizen_NO</th>\n",
       "      <th>SeniorCitizen_Yes</th>\n",
       "      <th>Partner_No</th>\n",
       "      <th>Partner_Yes</th>\n",
       "      <th>Dependents_No</th>\n",
       "      <th>Dependents_Yes</th>\n",
       "      <th>...</th>\n",
       "      <th>Contract_Month-to-month</th>\n",
       "      <th>Contract_One year</th>\n",
       "      <th>Contract_Two year</th>\n",
       "      <th>PaperlessBilling_No</th>\n",
       "      <th>PaperlessBilling_Yes</th>\n",
       "      <th>PaymentMethod_Bank transfer (automatic)</th>\n",
       "      <th>PaymentMethod_Credit card (automatic)</th>\n",
       "      <th>PaymentMethod_Electronic check</th>\n",
       "      <th>PaymentMethod_Mailed check</th>\n",
       "      <th>Churn</th>\n",
       "    </tr>\n",
       "  </thead>\n",
       "  <tbody>\n",
       "    <tr>\n",
       "      <th>0</th>\n",
       "      <td>-0.338701</td>\n",
       "      <td>0.049061</td>\n",
       "      <td>0</td>\n",
       "      <td>1</td>\n",
       "      <td>1</td>\n",
       "      <td>0</td>\n",
       "      <td>0</td>\n",
       "      <td>1</td>\n",
       "      <td>1</td>\n",
       "      <td>0</td>\n",
       "      <td>...</td>\n",
       "      <td>0</td>\n",
       "      <td>0</td>\n",
       "      <td>1</td>\n",
       "      <td>1</td>\n",
       "      <td>0</td>\n",
       "      <td>1</td>\n",
       "      <td>0</td>\n",
       "      <td>0</td>\n",
       "      <td>0</td>\n",
       "      <td>0</td>\n",
       "    </tr>\n",
       "    <tr>\n",
       "      <th>1</th>\n",
       "      <td>1.030607</td>\n",
       "      <td>0.139714</td>\n",
       "      <td>1</td>\n",
       "      <td>0</td>\n",
       "      <td>1</td>\n",
       "      <td>0</td>\n",
       "      <td>1</td>\n",
       "      <td>0</td>\n",
       "      <td>1</td>\n",
       "      <td>0</td>\n",
       "      <td>...</td>\n",
       "      <td>1</td>\n",
       "      <td>0</td>\n",
       "      <td>0</td>\n",
       "      <td>0</td>\n",
       "      <td>1</td>\n",
       "      <td>1</td>\n",
       "      <td>0</td>\n",
       "      <td>0</td>\n",
       "      <td>0</td>\n",
       "      <td>0</td>\n",
       "    </tr>\n",
       "    <tr>\n",
       "      <th>2</th>\n",
       "      <td>0.147022</td>\n",
       "      <td>-0.956056</td>\n",
       "      <td>1</td>\n",
       "      <td>0</td>\n",
       "      <td>1</td>\n",
       "      <td>0</td>\n",
       "      <td>1</td>\n",
       "      <td>0</td>\n",
       "      <td>1</td>\n",
       "      <td>0</td>\n",
       "      <td>...</td>\n",
       "      <td>1</td>\n",
       "      <td>0</td>\n",
       "      <td>0</td>\n",
       "      <td>1</td>\n",
       "      <td>0</td>\n",
       "      <td>0</td>\n",
       "      <td>0</td>\n",
       "      <td>1</td>\n",
       "      <td>0</td>\n",
       "      <td>1</td>\n",
       "    </tr>\n",
       "  </tbody>\n",
       "</table>\n",
       "<p>3 rows × 52 columns</p>\n",
       "</div>"
      ],
      "text/plain": [
       "   MonthlyCharges  TotalCharges  gender_Female  gender_Male  SeniorCitizen_NO  \\\n",
       "0       -0.338701      0.049061              0            1                 1   \n",
       "1        1.030607      0.139714              1            0                 1   \n",
       "2        0.147022     -0.956056              1            0                 1   \n",
       "\n",
       "   SeniorCitizen_Yes  Partner_No  Partner_Yes  Dependents_No  Dependents_Yes  \\\n",
       "0                  0           0            1              1               0   \n",
       "1                  0           1            0              1               0   \n",
       "2                  0           1            0              1               0   \n",
       "\n",
       "   ...  Contract_Month-to-month  Contract_One year  Contract_Two year  \\\n",
       "0  ...                        0                  0                  1   \n",
       "1  ...                        1                  0                  0   \n",
       "2  ...                        1                  0                  0   \n",
       "\n",
       "   PaperlessBilling_No  PaperlessBilling_Yes  \\\n",
       "0                    1                     0   \n",
       "1                    0                     1   \n",
       "2                    1                     0   \n",
       "\n",
       "   PaymentMethod_Bank transfer (automatic)  \\\n",
       "0                                        1   \n",
       "1                                        1   \n",
       "2                                        0   \n",
       "\n",
       "   PaymentMethod_Credit card (automatic)  PaymentMethod_Electronic check  \\\n",
       "0                                      0                               0   \n",
       "1                                      0                               0   \n",
       "2                                      0                               1   \n",
       "\n",
       "   PaymentMethod_Mailed check  Churn  \n",
       "0                           0      0  \n",
       "1                           0      0  \n",
       "2                           0      1  \n",
       "\n",
       "[3 rows x 52 columns]"
      ]
     },
     "execution_count": 4,
     "metadata": {},
     "output_type": "execute_result"
    }
   ],
   "source": [
    "d_train.head(3)"
   ]
  },
  {
   "cell_type": "code",
   "execution_count": 5,
   "id": "26582a22",
   "metadata": {},
   "outputs": [
    {
     "data": {
      "text/html": [
       "<div>\n",
       "<style scoped>\n",
       "    .dataframe tbody tr th:only-of-type {\n",
       "        vertical-align: middle;\n",
       "    }\n",
       "\n",
       "    .dataframe tbody tr th {\n",
       "        vertical-align: top;\n",
       "    }\n",
       "\n",
       "    .dataframe thead th {\n",
       "        text-align: right;\n",
       "    }\n",
       "</style>\n",
       "<table border=\"1\" class=\"dataframe\">\n",
       "  <thead>\n",
       "    <tr style=\"text-align: right;\">\n",
       "      <th></th>\n",
       "      <th>MonthlyCharges</th>\n",
       "      <th>TotalCharges</th>\n",
       "      <th>gender_Female</th>\n",
       "      <th>gender_Male</th>\n",
       "      <th>SeniorCitizen_NO</th>\n",
       "      <th>SeniorCitizen_Yes</th>\n",
       "      <th>Partner_No</th>\n",
       "      <th>Partner_Yes</th>\n",
       "      <th>Dependents_No</th>\n",
       "      <th>Dependents_Yes</th>\n",
       "      <th>...</th>\n",
       "      <th>Contract_Month-to-month</th>\n",
       "      <th>Contract_One year</th>\n",
       "      <th>Contract_Two year</th>\n",
       "      <th>PaperlessBilling_No</th>\n",
       "      <th>PaperlessBilling_Yes</th>\n",
       "      <th>PaymentMethod_Bank transfer (automatic)</th>\n",
       "      <th>PaymentMethod_Credit card (automatic)</th>\n",
       "      <th>PaymentMethod_Electronic check</th>\n",
       "      <th>PaymentMethod_Mailed check</th>\n",
       "      <th>Churn</th>\n",
       "    </tr>\n",
       "  </thead>\n",
       "  <tbody>\n",
       "    <tr>\n",
       "      <th>0</th>\n",
       "      <td>-1.457688</td>\n",
       "      <td>-0.536472</td>\n",
       "      <td>0</td>\n",
       "      <td>1</td>\n",
       "      <td>1</td>\n",
       "      <td>0</td>\n",
       "      <td>0</td>\n",
       "      <td>1</td>\n",
       "      <td>1</td>\n",
       "      <td>0</td>\n",
       "      <td>...</td>\n",
       "      <td>0</td>\n",
       "      <td>0</td>\n",
       "      <td>1</td>\n",
       "      <td>1</td>\n",
       "      <td>0</td>\n",
       "      <td>0</td>\n",
       "      <td>0</td>\n",
       "      <td>0</td>\n",
       "      <td>1</td>\n",
       "      <td>0</td>\n",
       "    </tr>\n",
       "    <tr>\n",
       "      <th>1</th>\n",
       "      <td>-1.480896</td>\n",
       "      <td>-0.374264</td>\n",
       "      <td>0</td>\n",
       "      <td>1</td>\n",
       "      <td>1</td>\n",
       "      <td>0</td>\n",
       "      <td>1</td>\n",
       "      <td>0</td>\n",
       "      <td>1</td>\n",
       "      <td>0</td>\n",
       "      <td>...</td>\n",
       "      <td>0</td>\n",
       "      <td>0</td>\n",
       "      <td>1</td>\n",
       "      <td>1</td>\n",
       "      <td>0</td>\n",
       "      <td>1</td>\n",
       "      <td>0</td>\n",
       "      <td>0</td>\n",
       "      <td>0</td>\n",
       "      <td>0</td>\n",
       "    </tr>\n",
       "    <tr>\n",
       "      <th>2</th>\n",
       "      <td>0.142049</td>\n",
       "      <td>0.810810</td>\n",
       "      <td>0</td>\n",
       "      <td>1</td>\n",
       "      <td>1</td>\n",
       "      <td>0</td>\n",
       "      <td>1</td>\n",
       "      <td>0</td>\n",
       "      <td>1</td>\n",
       "      <td>0</td>\n",
       "      <td>...</td>\n",
       "      <td>0</td>\n",
       "      <td>1</td>\n",
       "      <td>0</td>\n",
       "      <td>1</td>\n",
       "      <td>0</td>\n",
       "      <td>1</td>\n",
       "      <td>0</td>\n",
       "      <td>0</td>\n",
       "      <td>0</td>\n",
       "      <td>0</td>\n",
       "    </tr>\n",
       "  </tbody>\n",
       "</table>\n",
       "<p>3 rows × 52 columns</p>\n",
       "</div>"
      ],
      "text/plain": [
       "   MonthlyCharges  TotalCharges  gender_Female  gender_Male  SeniorCitizen_NO  \\\n",
       "0       -1.457688     -0.536472              0            1                 1   \n",
       "1       -1.480896     -0.374264              0            1                 1   \n",
       "2        0.142049      0.810810              0            1                 1   \n",
       "\n",
       "   SeniorCitizen_Yes  Partner_No  Partner_Yes  Dependents_No  Dependents_Yes  \\\n",
       "0                  0           0            1              1               0   \n",
       "1                  0           1            0              1               0   \n",
       "2                  0           1            0              1               0   \n",
       "\n",
       "   ...  Contract_Month-to-month  Contract_One year  Contract_Two year  \\\n",
       "0  ...                        0                  0                  1   \n",
       "1  ...                        0                  0                  1   \n",
       "2  ...                        0                  1                  0   \n",
       "\n",
       "   PaperlessBilling_No  PaperlessBilling_Yes  \\\n",
       "0                    1                     0   \n",
       "1                    1                     0   \n",
       "2                    1                     0   \n",
       "\n",
       "   PaymentMethod_Bank transfer (automatic)  \\\n",
       "0                                        0   \n",
       "1                                        1   \n",
       "2                                        1   \n",
       "\n",
       "   PaymentMethod_Credit card (automatic)  PaymentMethod_Electronic check  \\\n",
       "0                                      0                               0   \n",
       "1                                      0                               0   \n",
       "2                                      0                               0   \n",
       "\n",
       "   PaymentMethod_Mailed check  Churn  \n",
       "0                           1      0  \n",
       "1                           0      0  \n",
       "2                           0      0  \n",
       "\n",
       "[3 rows x 52 columns]"
      ]
     },
     "execution_count": 5,
     "metadata": {},
     "output_type": "execute_result"
    }
   ],
   "source": [
    "d_test.head(3)"
   ]
  },
  {
   "cell_type": "code",
   "execution_count": null,
   "id": "cd51e764",
   "metadata": {},
   "outputs": [],
   "source": []
  },
  {
   "cell_type": "markdown",
   "id": "c08379cb",
   "metadata": {},
   "source": [
    "## <span style = 'background :lightblue'>STEP 2 : Train - Test Split</span>"
   ]
  },
  {
   "cell_type": "code",
   "execution_count": null,
   "id": "006514d4",
   "metadata": {},
   "outputs": [],
   "source": []
  },
  {
   "cell_type": "code",
   "execution_count": 6,
   "id": "c6bb7372",
   "metadata": {},
   "outputs": [],
   "source": [
    "X_train = d_train.drop(labels= ['Churn'] , axis = 1)\n",
    "y_train = d_train['Churn']\n",
    "\n",
    "X_test = d_test.drop(labels= ['Churn'] , axis = 1)\n",
    "y_test = d_test['Churn']"
   ]
  },
  {
   "cell_type": "code",
   "execution_count": null,
   "id": "8389fe8f",
   "metadata": {},
   "outputs": [],
   "source": []
  },
  {
   "cell_type": "code",
   "execution_count": 7,
   "id": "ed8b05b0",
   "metadata": {},
   "outputs": [
    {
     "data": {
      "text/plain": [
       "((5634, 51), (5634,))"
      ]
     },
     "execution_count": 7,
     "metadata": {},
     "output_type": "execute_result"
    }
   ],
   "source": [
    "X_train.shape , y_train.shape"
   ]
  },
  {
   "cell_type": "code",
   "execution_count": 8,
   "id": "b65c102c",
   "metadata": {},
   "outputs": [
    {
     "data": {
      "text/plain": [
       "((1409, 51), (1409,))"
      ]
     },
     "execution_count": 8,
     "metadata": {},
     "output_type": "execute_result"
    }
   ],
   "source": [
    "X_test.shape , y_test.shape"
   ]
  },
  {
   "cell_type": "code",
   "execution_count": null,
   "id": "40f22657",
   "metadata": {},
   "outputs": [],
   "source": []
  },
  {
   "cell_type": "code",
   "execution_count": 9,
   "id": "e37a8ff3",
   "metadata": {},
   "outputs": [
    {
     "data": {
      "text/plain": [
       "0    4149\n",
       "1    1485\n",
       "Name: Churn, dtype: int64"
      ]
     },
     "execution_count": 9,
     "metadata": {},
     "output_type": "execute_result"
    }
   ],
   "source": [
    "y_train.value_counts()"
   ]
  },
  {
   "cell_type": "code",
   "execution_count": 10,
   "id": "871636e0",
   "metadata": {},
   "outputs": [
    {
     "data": {
      "text/plain": [
       "0    1025\n",
       "1     384\n",
       "Name: Churn, dtype: int64"
      ]
     },
     "execution_count": 10,
     "metadata": {},
     "output_type": "execute_result"
    }
   ],
   "source": [
    "y_test.value_counts()"
   ]
  },
  {
   "cell_type": "code",
   "execution_count": null,
   "id": "90f9f81b",
   "metadata": {},
   "outputs": [],
   "source": []
  },
  {
   "cell_type": "markdown",
   "id": "aaa773c2",
   "metadata": {},
   "source": [
    "## <span style = 'background :lightblue'>STEP 3 : Upsampling of Train and Test DataSet</span>"
   ]
  },
  {
   "cell_type": "code",
   "execution_count": 11,
   "id": "8d0f71c7",
   "metadata": {},
   "outputs": [],
   "source": [
    "import warnings\n",
    "warnings.filterwarnings('ignore')"
   ]
  },
  {
   "cell_type": "code",
   "execution_count": 12,
   "id": "ae6a88b9",
   "metadata": {},
   "outputs": [],
   "source": [
    "from imblearn.over_sampling import KMeansSMOTE "
   ]
  },
  {
   "cell_type": "code",
   "execution_count": null,
   "id": "96ea3d24",
   "metadata": {},
   "outputs": [],
   "source": []
  },
  {
   "cell_type": "code",
   "execution_count": 13,
   "id": "13887682",
   "metadata": {},
   "outputs": [],
   "source": [
    "def KMeans_SMOTE(X_DF , y_ser ,samp_strategy):\n",
    "    \n",
    "    # Define KMeansSMOTE object with sampling_strategy\n",
    "    kms = KMeansSMOTE(random_state = 100 ,sampling_strategy=samp_strategy  )\n",
    "    \n",
    "    # fit and apply the transform\n",
    "    X_DF_knn_res, y_ser_knn_res = kms.fit_resample(X_DF, y_ser)\n",
    "    \n",
    "    return (X_DF_knn_res, y_ser_knn_res)"
   ]
  },
  {
   "cell_type": "code",
   "execution_count": null,
   "id": "8a38c882",
   "metadata": {},
   "outputs": [],
   "source": []
  },
  {
   "cell_type": "code",
   "execution_count": 14,
   "id": "faf26937",
   "metadata": {},
   "outputs": [],
   "source": [
    "X_train_res, y_train_res = KMeans_SMOTE(X_DF = X_train , y_ser = y_train , samp_strategy = 0.928 )\n",
    "\n",
    "X_test_res , y_test_res = KMeans_SMOTE(X_DF = X_test ,  y_ser = y_test , samp_strategy = 0.854)"
   ]
  },
  {
   "cell_type": "code",
   "execution_count": null,
   "id": "eb3400da",
   "metadata": {},
   "outputs": [],
   "source": []
  },
  {
   "cell_type": "code",
   "execution_count": 15,
   "id": "da5501f1",
   "metadata": {},
   "outputs": [
    {
     "data": {
      "text/plain": [
       "(7999, 51)"
      ]
     },
     "execution_count": 15,
     "metadata": {},
     "output_type": "execute_result"
    }
   ],
   "source": [
    "X_train_res.shape"
   ]
  },
  {
   "cell_type": "code",
   "execution_count": 16,
   "id": "1b067982",
   "metadata": {},
   "outputs": [
    {
     "data": {
      "text/plain": [
       "(7999,)"
      ]
     },
     "execution_count": 16,
     "metadata": {},
     "output_type": "execute_result"
    }
   ],
   "source": [
    "y_train_res.shape"
   ]
  },
  {
   "cell_type": "code",
   "execution_count": 17,
   "id": "b53078b3",
   "metadata": {},
   "outputs": [
    {
     "data": {
      "text/plain": [
       "0    4149\n",
       "1    3850\n",
       "Name: Churn, dtype: int64"
      ]
     },
     "execution_count": 17,
     "metadata": {},
     "output_type": "execute_result"
    }
   ],
   "source": [
    "y_train_res.value_counts()"
   ]
  },
  {
   "cell_type": "code",
   "execution_count": null,
   "id": "67d75bd2",
   "metadata": {},
   "outputs": [],
   "source": []
  },
  {
   "cell_type": "code",
   "execution_count": 18,
   "id": "96975637",
   "metadata": {},
   "outputs": [
    {
     "data": {
      "text/plain": [
       "(1900, 51)"
      ]
     },
     "execution_count": 18,
     "metadata": {},
     "output_type": "execute_result"
    }
   ],
   "source": [
    "X_test_res.shape"
   ]
  },
  {
   "cell_type": "code",
   "execution_count": 19,
   "id": "bdb43110",
   "metadata": {},
   "outputs": [
    {
     "data": {
      "text/plain": [
       "(1900,)"
      ]
     },
     "execution_count": 19,
     "metadata": {},
     "output_type": "execute_result"
    }
   ],
   "source": [
    "y_test_res.shape"
   ]
  },
  {
   "cell_type": "code",
   "execution_count": 20,
   "id": "e23748b4",
   "metadata": {},
   "outputs": [
    {
     "data": {
      "text/plain": [
       "0    1025\n",
       "1     875\n",
       "Name: Churn, dtype: int64"
      ]
     },
     "execution_count": 20,
     "metadata": {},
     "output_type": "execute_result"
    }
   ],
   "source": [
    "y_test_res.value_counts()"
   ]
  },
  {
   "cell_type": "code",
   "execution_count": null,
   "id": "60b0845a",
   "metadata": {},
   "outputs": [],
   "source": []
  },
  {
   "cell_type": "markdown",
   "id": "33d35686",
   "metadata": {},
   "source": [
    "## <span style = 'background :lightblue'>STEP 4 : Training models</span>"
   ]
  },
  {
   "cell_type": "code",
   "execution_count": null,
   "id": "60f20438",
   "metadata": {},
   "outputs": [],
   "source": []
  },
  {
   "cell_type": "code",
   "execution_count": 21,
   "id": "ea047f42",
   "metadata": {},
   "outputs": [],
   "source": [
    "from sklearn.metrics import classification_report"
   ]
  },
  {
   "cell_type": "code",
   "execution_count": null,
   "id": "18d797ff",
   "metadata": {},
   "outputs": [],
   "source": []
  },
  {
   "cell_type": "code",
   "execution_count": 22,
   "id": "aef2672c",
   "metadata": {},
   "outputs": [],
   "source": [
    "from sklearn.linear_model import LogisticRegression\n",
    "from sklearn.svm import SVC\n",
    "from sklearn.naive_bayes import GaussianNB\n",
    "from sklearn.tree import DecisionTreeClassifier\n",
    "from sklearn.ensemble import RandomForestClassifier"
   ]
  },
  {
   "cell_type": "code",
   "execution_count": null,
   "id": "004a33ca",
   "metadata": {},
   "outputs": [],
   "source": []
  },
  {
   "cell_type": "code",
   "execution_count": 23,
   "id": "581328dd",
   "metadata": {},
   "outputs": [],
   "source": [
    "models = [LogisticRegression(max_iter=1000), SVC(), GaussianNB(),DecisionTreeClassifier(), RandomForestClassifier()]"
   ]
  },
  {
   "cell_type": "code",
   "execution_count": null,
   "id": "d8309b1b",
   "metadata": {},
   "outputs": [],
   "source": []
  },
  {
   "cell_type": "code",
   "execution_count": 24,
   "id": "f53f14be",
   "metadata": {
    "scrolled": true
   },
   "outputs": [],
   "source": [
    "def ModelTraining(ML_models , X_train ,y_train ,X_test,y_test):\n",
    "    \n",
    "    for model in ML_models :\n",
    "\n",
    "        model.fit(X_train_res.values, y_train_res)\n",
    "        y_hat_train = model.predict(X_train_res.values)\n",
    "        y_hat_test = model.predict(X_test_res.values)\n",
    "\n",
    "        print(f\"******************* \\33[1m{str(model)}\\33[0m *******************\\n\")\n",
    "\n",
    "        print(\"\\33[1mTraining classification Report :\\33[0m \\n\")\n",
    "        print(classification_report(y_train_res,y_hat_train ,zero_division = 1))\n",
    "\n",
    "        print() \n",
    "\n",
    "        print(\"\\33[1mTesting classification Report :\\33[0m \\n\")\n",
    "        print(classification_report(y_test_res,y_hat_test , zero_division = 1))\n",
    "\n",
    "        print()\n",
    "        "
   ]
  },
  {
   "cell_type": "code",
   "execution_count": 25,
   "id": "bb5a8c67",
   "metadata": {
    "scrolled": false
   },
   "outputs": [
    {
     "name": "stdout",
     "output_type": "stream",
     "text": [
      "******************* \u001b[1mLogisticRegression(max_iter=1000)\u001b[0m *******************\n",
      "\n",
      "\u001b[1mTraining classification Report :\u001b[0m \n",
      "\n",
      "              precision    recall  f1-score   support\n",
      "\n",
      "           0       0.86      0.88      0.87      4149\n",
      "           1       0.87      0.84      0.86      3850\n",
      "\n",
      "    accuracy                           0.86      7999\n",
      "   macro avg       0.86      0.86      0.86      7999\n",
      "weighted avg       0.86      0.86      0.86      7999\n",
      "\n",
      "\n",
      "\u001b[1mTesting classification Report :\u001b[0m \n",
      "\n",
      "              precision    recall  f1-score   support\n",
      "\n",
      "           0       0.84      0.86      0.85      1025\n",
      "           1       0.83      0.81      0.82       875\n",
      "\n",
      "    accuracy                           0.84      1900\n",
      "   macro avg       0.83      0.83      0.83      1900\n",
      "weighted avg       0.84      0.84      0.84      1900\n",
      "\n",
      "\n",
      "******************* \u001b[1mSVC()\u001b[0m *******************\n",
      "\n",
      "\u001b[1mTraining classification Report :\u001b[0m \n",
      "\n",
      "              precision    recall  f1-score   support\n",
      "\n",
      "           0       0.85      0.91      0.88      4149\n",
      "           1       0.89      0.83      0.86      3850\n",
      "\n",
      "    accuracy                           0.87      7999\n",
      "   macro avg       0.87      0.87      0.87      7999\n",
      "weighted avg       0.87      0.87      0.87      7999\n",
      "\n",
      "\n",
      "\u001b[1mTesting classification Report :\u001b[0m \n",
      "\n",
      "              precision    recall  f1-score   support\n",
      "\n",
      "           0       0.83      0.88      0.85      1025\n",
      "           1       0.85      0.79      0.82       875\n",
      "\n",
      "    accuracy                           0.84      1900\n",
      "   macro avg       0.84      0.83      0.84      1900\n",
      "weighted avg       0.84      0.84      0.84      1900\n",
      "\n",
      "\n",
      "******************* \u001b[1mGaussianNB()\u001b[0m *******************\n",
      "\n",
      "\u001b[1mTraining classification Report :\u001b[0m \n",
      "\n",
      "              precision    recall  f1-score   support\n",
      "\n",
      "           0       0.88      0.78      0.83      4149\n",
      "           1       0.79      0.89      0.83      3850\n",
      "\n",
      "    accuracy                           0.83      7999\n",
      "   macro avg       0.83      0.83      0.83      7999\n",
      "weighted avg       0.84      0.83      0.83      7999\n",
      "\n",
      "\n",
      "\u001b[1mTesting classification Report :\u001b[0m \n",
      "\n",
      "              precision    recall  f1-score   support\n",
      "\n",
      "           0       0.86      0.74      0.79      1025\n",
      "           1       0.74      0.87      0.80       875\n",
      "\n",
      "    accuracy                           0.80      1900\n",
      "   macro avg       0.80      0.80      0.80      1900\n",
      "weighted avg       0.81      0.80      0.80      1900\n",
      "\n",
      "\n",
      "******************* \u001b[1mDecisionTreeClassifier()\u001b[0m *******************\n",
      "\n",
      "\u001b[1mTraining classification Report :\u001b[0m \n",
      "\n",
      "              precision    recall  f1-score   support\n",
      "\n",
      "           0       1.00      1.00      1.00      4149\n",
      "           1       1.00      1.00      1.00      3850\n",
      "\n",
      "    accuracy                           1.00      7999\n",
      "   macro avg       1.00      1.00      1.00      7999\n",
      "weighted avg       1.00      1.00      1.00      7999\n",
      "\n",
      "\n",
      "\u001b[1mTesting classification Report :\u001b[0m \n",
      "\n",
      "              precision    recall  f1-score   support\n",
      "\n",
      "           0       0.77      0.78      0.78      1025\n",
      "           1       0.74      0.73      0.73       875\n",
      "\n",
      "    accuracy                           0.76      1900\n",
      "   macro avg       0.75      0.75      0.75      1900\n",
      "weighted avg       0.76      0.76      0.76      1900\n",
      "\n",
      "\n",
      "******************* \u001b[1mRandomForestClassifier()\u001b[0m *******************\n",
      "\n",
      "\u001b[1mTraining classification Report :\u001b[0m \n",
      "\n",
      "              precision    recall  f1-score   support\n",
      "\n",
      "           0       1.00      1.00      1.00      4149\n",
      "           1       1.00      1.00      1.00      3850\n",
      "\n",
      "    accuracy                           1.00      7999\n",
      "   macro avg       1.00      1.00      1.00      7999\n",
      "weighted avg       1.00      1.00      1.00      7999\n",
      "\n",
      "\n",
      "\u001b[1mTesting classification Report :\u001b[0m \n",
      "\n",
      "              precision    recall  f1-score   support\n",
      "\n",
      "           0       0.82      0.87      0.84      1025\n",
      "           1       0.83      0.77      0.80       875\n",
      "\n",
      "    accuracy                           0.82      1900\n",
      "   macro avg       0.82      0.82      0.82      1900\n",
      "weighted avg       0.82      0.82      0.82      1900\n",
      "\n",
      "\n"
     ]
    }
   ],
   "source": [
    "ModelTraining(ML_models = models ,  X_train = X_train ,y_train = y_train ,\n",
    "              X_test = X_test, y_test = y_test)"
   ]
  },
  {
   "cell_type": "code",
   "execution_count": null,
   "id": "3151462f",
   "metadata": {},
   "outputs": [],
   "source": []
  },
  {
   "cell_type": "code",
   "execution_count": null,
   "id": "bfbe0056",
   "metadata": {},
   "outputs": [],
   "source": []
  }
 ],
 "metadata": {
  "kernelspec": {
   "display_name": "Python 3 (ipykernel)",
   "language": "python",
   "name": "python3"
  },
  "language_info": {
   "codemirror_mode": {
    "name": "ipython",
    "version": 3
   },
   "file_extension": ".py",
   "mimetype": "text/x-python",
   "name": "python",
   "nbconvert_exporter": "python",
   "pygments_lexer": "ipython3",
   "version": "3.10.9"
  }
 },
 "nbformat": 4,
 "nbformat_minor": 5
}
