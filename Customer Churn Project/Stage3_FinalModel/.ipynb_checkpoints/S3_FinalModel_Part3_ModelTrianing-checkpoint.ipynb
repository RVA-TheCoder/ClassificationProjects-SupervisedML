{
 "cells": [
  {
   "cell_type": "code",
   "execution_count": 1,
   "id": "53b9330c",
   "metadata": {},
   "outputs": [],
   "source": [
    "import numpy as np\n",
    "import pandas as pd\n",
    "import matplotlib.pyplot as plt\n",
    "import seaborn as sns"
   ]
  },
  {
   "cell_type": "code",
   "execution_count": null,
   "id": "00a4874f",
   "metadata": {},
   "outputs": [],
   "source": []
  },
  {
   "cell_type": "markdown",
   "id": "fabd8efc",
   "metadata": {},
   "source": [
    "## <span style = 'background :lightblue'>STEP 1 : Import Transforrmed Dataset</span>"
   ]
  },
  {
   "cell_type": "code",
   "execution_count": null,
   "id": "b28f5d54",
   "metadata": {},
   "outputs": [],
   "source": []
  },
  {
   "cell_type": "code",
   "execution_count": 2,
   "id": "10e74b9e",
   "metadata": {},
   "outputs": [],
   "source": [
    "filepath_train = r\"S3_FinalModel_Part2_FE_Pipeline_Train_DS.csv\"\n",
    "filepath_test =  r\"S3_FinalModel_Part2_FE_Pipeline_Test_DS.csv\""
   ]
  },
  {
   "cell_type": "code",
   "execution_count": null,
   "id": "c23a9c93",
   "metadata": {},
   "outputs": [],
   "source": []
  },
  {
   "cell_type": "code",
   "execution_count": 3,
   "id": "6ec6c881",
   "metadata": {},
   "outputs": [],
   "source": [
    "d_train = pd.read_csv(filepath_train  ,index_col= 0 , header= 0)\n",
    "d_test = pd.read_csv(filepath_test  ,index_col= 0 , header= 0)"
   ]
  },
  {
   "cell_type": "code",
   "execution_count": null,
   "id": "e596e797",
   "metadata": {},
   "outputs": [],
   "source": []
  },
  {
   "cell_type": "code",
   "execution_count": 4,
   "id": "bc5bba44",
   "metadata": {},
   "outputs": [
    {
     "data": {
      "text/html": [
       "<div>\n",
       "<style scoped>\n",
       "    .dataframe tbody tr th:only-of-type {\n",
       "        vertical-align: middle;\n",
       "    }\n",
       "\n",
       "    .dataframe tbody tr th {\n",
       "        vertical-align: top;\n",
       "    }\n",
       "\n",
       "    .dataframe thead th {\n",
       "        text-align: right;\n",
       "    }\n",
       "</style>\n",
       "<table border=\"1\" class=\"dataframe\">\n",
       "  <thead>\n",
       "    <tr style=\"text-align: right;\">\n",
       "      <th></th>\n",
       "      <th>MonthlyCharges</th>\n",
       "      <th>TotalCharges</th>\n",
       "      <th>gender_Female</th>\n",
       "      <th>gender_Male</th>\n",
       "      <th>SeniorCitizen_NO</th>\n",
       "      <th>SeniorCitizen_Yes</th>\n",
       "      <th>Partner_No</th>\n",
       "      <th>Partner_Yes</th>\n",
       "      <th>Dependents_No</th>\n",
       "      <th>Dependents_Yes</th>\n",
       "      <th>...</th>\n",
       "      <th>Contract_Month-to-month</th>\n",
       "      <th>Contract_One year</th>\n",
       "      <th>Contract_Two year</th>\n",
       "      <th>PaperlessBilling_No</th>\n",
       "      <th>PaperlessBilling_Yes</th>\n",
       "      <th>PaymentMethod_Bank transfer (automatic)</th>\n",
       "      <th>PaymentMethod_Credit card (automatic)</th>\n",
       "      <th>PaymentMethod_Electronic check</th>\n",
       "      <th>PaymentMethod_Mailed check</th>\n",
       "      <th>Churn</th>\n",
       "    </tr>\n",
       "  </thead>\n",
       "  <tbody>\n",
       "    <tr>\n",
       "      <th>0</th>\n",
       "      <td>-0.338701</td>\n",
       "      <td>0.049061</td>\n",
       "      <td>0</td>\n",
       "      <td>1</td>\n",
       "      <td>1</td>\n",
       "      <td>0</td>\n",
       "      <td>0</td>\n",
       "      <td>1</td>\n",
       "      <td>1</td>\n",
       "      <td>0</td>\n",
       "      <td>...</td>\n",
       "      <td>0</td>\n",
       "      <td>0</td>\n",
       "      <td>1</td>\n",
       "      <td>1</td>\n",
       "      <td>0</td>\n",
       "      <td>1</td>\n",
       "      <td>0</td>\n",
       "      <td>0</td>\n",
       "      <td>0</td>\n",
       "      <td>0</td>\n",
       "    </tr>\n",
       "    <tr>\n",
       "      <th>1</th>\n",
       "      <td>1.030607</td>\n",
       "      <td>0.139714</td>\n",
       "      <td>1</td>\n",
       "      <td>0</td>\n",
       "      <td>1</td>\n",
       "      <td>0</td>\n",
       "      <td>1</td>\n",
       "      <td>0</td>\n",
       "      <td>1</td>\n",
       "      <td>0</td>\n",
       "      <td>...</td>\n",
       "      <td>1</td>\n",
       "      <td>0</td>\n",
       "      <td>0</td>\n",
       "      <td>0</td>\n",
       "      <td>1</td>\n",
       "      <td>1</td>\n",
       "      <td>0</td>\n",
       "      <td>0</td>\n",
       "      <td>0</td>\n",
       "      <td>0</td>\n",
       "    </tr>\n",
       "    <tr>\n",
       "      <th>2</th>\n",
       "      <td>0.147022</td>\n",
       "      <td>-0.956056</td>\n",
       "      <td>1</td>\n",
       "      <td>0</td>\n",
       "      <td>1</td>\n",
       "      <td>0</td>\n",
       "      <td>1</td>\n",
       "      <td>0</td>\n",
       "      <td>1</td>\n",
       "      <td>0</td>\n",
       "      <td>...</td>\n",
       "      <td>1</td>\n",
       "      <td>0</td>\n",
       "      <td>0</td>\n",
       "      <td>1</td>\n",
       "      <td>0</td>\n",
       "      <td>0</td>\n",
       "      <td>0</td>\n",
       "      <td>1</td>\n",
       "      <td>0</td>\n",
       "      <td>1</td>\n",
       "    </tr>\n",
       "  </tbody>\n",
       "</table>\n",
       "<p>3 rows × 52 columns</p>\n",
       "</div>"
      ],
      "text/plain": [
       "   MonthlyCharges  TotalCharges  gender_Female  gender_Male  SeniorCitizen_NO  \\\n",
       "0       -0.338701      0.049061              0            1                 1   \n",
       "1        1.030607      0.139714              1            0                 1   \n",
       "2        0.147022     -0.956056              1            0                 1   \n",
       "\n",
       "   SeniorCitizen_Yes  Partner_No  Partner_Yes  Dependents_No  Dependents_Yes  \\\n",
       "0                  0           0            1              1               0   \n",
       "1                  0           1            0              1               0   \n",
       "2                  0           1            0              1               0   \n",
       "\n",
       "   ...  Contract_Month-to-month  Contract_One year  Contract_Two year  \\\n",
       "0  ...                        0                  0                  1   \n",
       "1  ...                        1                  0                  0   \n",
       "2  ...                        1                  0                  0   \n",
       "\n",
       "   PaperlessBilling_No  PaperlessBilling_Yes  \\\n",
       "0                    1                     0   \n",
       "1                    0                     1   \n",
       "2                    1                     0   \n",
       "\n",
       "   PaymentMethod_Bank transfer (automatic)  \\\n",
       "0                                        1   \n",
       "1                                        1   \n",
       "2                                        0   \n",
       "\n",
       "   PaymentMethod_Credit card (automatic)  PaymentMethod_Electronic check  \\\n",
       "0                                      0                               0   \n",
       "1                                      0                               0   \n",
       "2                                      0                               1   \n",
       "\n",
       "   PaymentMethod_Mailed check  Churn  \n",
       "0                           0      0  \n",
       "1                           0      0  \n",
       "2                           0      1  \n",
       "\n",
       "[3 rows x 52 columns]"
      ]
     },
     "execution_count": 4,
     "metadata": {},
     "output_type": "execute_result"
    }
   ],
   "source": [
    "d_train.head(3)"
   ]
  },
  {
   "cell_type": "code",
   "execution_count": 5,
   "id": "26582a22",
   "metadata": {},
   "outputs": [
    {
     "data": {
      "text/html": [
       "<div>\n",
       "<style scoped>\n",
       "    .dataframe tbody tr th:only-of-type {\n",
       "        vertical-align: middle;\n",
       "    }\n",
       "\n",
       "    .dataframe tbody tr th {\n",
       "        vertical-align: top;\n",
       "    }\n",
       "\n",
       "    .dataframe thead th {\n",
       "        text-align: right;\n",
       "    }\n",
       "</style>\n",
       "<table border=\"1\" class=\"dataframe\">\n",
       "  <thead>\n",
       "    <tr style=\"text-align: right;\">\n",
       "      <th></th>\n",
       "      <th>MonthlyCharges</th>\n",
       "      <th>TotalCharges</th>\n",
       "      <th>gender_Female</th>\n",
       "      <th>gender_Male</th>\n",
       "      <th>SeniorCitizen_NO</th>\n",
       "      <th>SeniorCitizen_Yes</th>\n",
       "      <th>Partner_No</th>\n",
       "      <th>Partner_Yes</th>\n",
       "      <th>Dependents_No</th>\n",
       "      <th>Dependents_Yes</th>\n",
       "      <th>...</th>\n",
       "      <th>Contract_Month-to-month</th>\n",
       "      <th>Contract_One year</th>\n",
       "      <th>Contract_Two year</th>\n",
       "      <th>PaperlessBilling_No</th>\n",
       "      <th>PaperlessBilling_Yes</th>\n",
       "      <th>PaymentMethod_Bank transfer (automatic)</th>\n",
       "      <th>PaymentMethod_Credit card (automatic)</th>\n",
       "      <th>PaymentMethod_Electronic check</th>\n",
       "      <th>PaymentMethod_Mailed check</th>\n",
       "      <th>Churn</th>\n",
       "    </tr>\n",
       "  </thead>\n",
       "  <tbody>\n",
       "    <tr>\n",
       "      <th>0</th>\n",
       "      <td>-1.457688</td>\n",
       "      <td>-0.536472</td>\n",
       "      <td>0</td>\n",
       "      <td>1</td>\n",
       "      <td>1</td>\n",
       "      <td>0</td>\n",
       "      <td>0</td>\n",
       "      <td>1</td>\n",
       "      <td>1</td>\n",
       "      <td>0</td>\n",
       "      <td>...</td>\n",
       "      <td>0</td>\n",
       "      <td>0</td>\n",
       "      <td>1</td>\n",
       "      <td>1</td>\n",
       "      <td>0</td>\n",
       "      <td>0</td>\n",
       "      <td>0</td>\n",
       "      <td>0</td>\n",
       "      <td>1</td>\n",
       "      <td>0</td>\n",
       "    </tr>\n",
       "    <tr>\n",
       "      <th>1</th>\n",
       "      <td>-1.480896</td>\n",
       "      <td>-0.374264</td>\n",
       "      <td>0</td>\n",
       "      <td>1</td>\n",
       "      <td>1</td>\n",
       "      <td>0</td>\n",
       "      <td>1</td>\n",
       "      <td>0</td>\n",
       "      <td>1</td>\n",
       "      <td>0</td>\n",
       "      <td>...</td>\n",
       "      <td>0</td>\n",
       "      <td>0</td>\n",
       "      <td>1</td>\n",
       "      <td>1</td>\n",
       "      <td>0</td>\n",
       "      <td>1</td>\n",
       "      <td>0</td>\n",
       "      <td>0</td>\n",
       "      <td>0</td>\n",
       "      <td>0</td>\n",
       "    </tr>\n",
       "    <tr>\n",
       "      <th>2</th>\n",
       "      <td>0.142049</td>\n",
       "      <td>0.810810</td>\n",
       "      <td>0</td>\n",
       "      <td>1</td>\n",
       "      <td>1</td>\n",
       "      <td>0</td>\n",
       "      <td>1</td>\n",
       "      <td>0</td>\n",
       "      <td>1</td>\n",
       "      <td>0</td>\n",
       "      <td>...</td>\n",
       "      <td>0</td>\n",
       "      <td>1</td>\n",
       "      <td>0</td>\n",
       "      <td>1</td>\n",
       "      <td>0</td>\n",
       "      <td>1</td>\n",
       "      <td>0</td>\n",
       "      <td>0</td>\n",
       "      <td>0</td>\n",
       "      <td>0</td>\n",
       "    </tr>\n",
       "  </tbody>\n",
       "</table>\n",
       "<p>3 rows × 52 columns</p>\n",
       "</div>"
      ],
      "text/plain": [
       "   MonthlyCharges  TotalCharges  gender_Female  gender_Male  SeniorCitizen_NO  \\\n",
       "0       -1.457688     -0.536472              0            1                 1   \n",
       "1       -1.480896     -0.374264              0            1                 1   \n",
       "2        0.142049      0.810810              0            1                 1   \n",
       "\n",
       "   SeniorCitizen_Yes  Partner_No  Partner_Yes  Dependents_No  Dependents_Yes  \\\n",
       "0                  0           0            1              1               0   \n",
       "1                  0           1            0              1               0   \n",
       "2                  0           1            0              1               0   \n",
       "\n",
       "   ...  Contract_Month-to-month  Contract_One year  Contract_Two year  \\\n",
       "0  ...                        0                  0                  1   \n",
       "1  ...                        0                  0                  1   \n",
       "2  ...                        0                  1                  0   \n",
       "\n",
       "   PaperlessBilling_No  PaperlessBilling_Yes  \\\n",
       "0                    1                     0   \n",
       "1                    1                     0   \n",
       "2                    1                     0   \n",
       "\n",
       "   PaymentMethod_Bank transfer (automatic)  \\\n",
       "0                                        0   \n",
       "1                                        1   \n",
       "2                                        1   \n",
       "\n",
       "   PaymentMethod_Credit card (automatic)  PaymentMethod_Electronic check  \\\n",
       "0                                      0                               0   \n",
       "1                                      0                               0   \n",
       "2                                      0                               0   \n",
       "\n",
       "   PaymentMethod_Mailed check  Churn  \n",
       "0                           1      0  \n",
       "1                           0      0  \n",
       "2                           0      0  \n",
       "\n",
       "[3 rows x 52 columns]"
      ]
     },
     "execution_count": 5,
     "metadata": {},
     "output_type": "execute_result"
    }
   ],
   "source": [
    "d_test.head(3)"
   ]
  },
  {
   "cell_type": "code",
   "execution_count": null,
   "id": "cd51e764",
   "metadata": {},
   "outputs": [],
   "source": []
  },
  {
   "cell_type": "code",
   "execution_count": 6,
   "id": "93e06439",
   "metadata": {},
   "outputs": [],
   "source": [
    "import warnings\n",
    "warnings.filterwarnings('ignore')"
   ]
  },
  {
   "cell_type": "code",
   "execution_count": null,
   "id": "a4382421",
   "metadata": {},
   "outputs": [],
   "source": []
  },
  {
   "cell_type": "markdown",
   "id": "c08379cb",
   "metadata": {},
   "source": [
    "## <span style = 'background :lightblue'>STEP 2 : Train - Test Split</span>"
   ]
  },
  {
   "cell_type": "code",
   "execution_count": null,
   "id": "006514d4",
   "metadata": {},
   "outputs": [],
   "source": []
  },
  {
   "cell_type": "code",
   "execution_count": 7,
   "id": "c6bb7372",
   "metadata": {},
   "outputs": [],
   "source": [
    "X_train = d_train.drop(labels= ['Churn'] , axis = 1)\n",
    "y_train = d_train['Churn']\n",
    "\n",
    "X_test = d_test.drop(labels= ['Churn'] , axis = 1)\n",
    "y_test = d_test['Churn']"
   ]
  },
  {
   "cell_type": "code",
   "execution_count": null,
   "id": "8389fe8f",
   "metadata": {},
   "outputs": [],
   "source": []
  },
  {
   "cell_type": "code",
   "execution_count": 8,
   "id": "ed8b05b0",
   "metadata": {},
   "outputs": [
    {
     "data": {
      "text/plain": [
       "((5634, 51), (5634,))"
      ]
     },
     "execution_count": 8,
     "metadata": {},
     "output_type": "execute_result"
    }
   ],
   "source": [
    "X_train.shape , y_train.shape"
   ]
  },
  {
   "cell_type": "code",
   "execution_count": 9,
   "id": "b65c102c",
   "metadata": {},
   "outputs": [
    {
     "data": {
      "text/plain": [
       "((1409, 51), (1409,))"
      ]
     },
     "execution_count": 9,
     "metadata": {},
     "output_type": "execute_result"
    }
   ],
   "source": [
    "X_test.shape , y_test.shape"
   ]
  },
  {
   "cell_type": "code",
   "execution_count": null,
   "id": "40f22657",
   "metadata": {},
   "outputs": [],
   "source": []
  },
  {
   "cell_type": "code",
   "execution_count": 10,
   "id": "e37a8ff3",
   "metadata": {},
   "outputs": [
    {
     "data": {
      "text/plain": [
       "0    4149\n",
       "1    1485\n",
       "Name: Churn, dtype: int64"
      ]
     },
     "execution_count": 10,
     "metadata": {},
     "output_type": "execute_result"
    }
   ],
   "source": [
    "y_train.value_counts()"
   ]
  },
  {
   "cell_type": "code",
   "execution_count": 11,
   "id": "871636e0",
   "metadata": {},
   "outputs": [
    {
     "data": {
      "text/plain": [
       "0    1025\n",
       "1     384\n",
       "Name: Churn, dtype: int64"
      ]
     },
     "execution_count": 11,
     "metadata": {},
     "output_type": "execute_result"
    }
   ],
   "source": [
    "y_test.value_counts()"
   ]
  },
  {
   "cell_type": "code",
   "execution_count": null,
   "id": "fa050763",
   "metadata": {},
   "outputs": [],
   "source": []
  },
  {
   "cell_type": "markdown",
   "id": "aaa773c2",
   "metadata": {},
   "source": [
    "## <span style = 'background :lightblue'>STEP 3 : Up-sampling of Train and Test DataSet</span>"
   ]
  },
  {
   "cell_type": "code",
   "execution_count": null,
   "id": "237d440b",
   "metadata": {},
   "outputs": [],
   "source": []
  },
  {
   "cell_type": "code",
   "execution_count": 12,
   "id": "e87b5b7d",
   "metadata": {},
   "outputs": [],
   "source": [
    "from imblearn.combine import SMOTEENN"
   ]
  },
  {
   "cell_type": "code",
   "execution_count": null,
   "id": "a192854d",
   "metadata": {},
   "outputs": [],
   "source": []
  },
  {
   "cell_type": "code",
   "execution_count": 13,
   "id": "13887682",
   "metadata": {},
   "outputs": [],
   "source": [
    "def SmoteENN(X_DF , y_ser ,samp_strategy):\n",
    "    \n",
    "    # Define KMeansSMOTE object with sampling_strategy\n",
    "    senn = SMOTEENN(random_state = 100 ,sampling_strategy=samp_strategy  )\n",
    "    \n",
    "    # fit and apply the transform\n",
    "    X_DF_senn_res, y_ser_senn_res = senn.fit_resample(X_DF, y_ser)\n",
    "    \n",
    "    return (X_DF_senn_res, y_ser_senn_res)"
   ]
  },
  {
   "cell_type": "code",
   "execution_count": null,
   "id": "2689c374",
   "metadata": {},
   "outputs": [],
   "source": []
  },
  {
   "cell_type": "code",
   "execution_count": 14,
   "id": "faf26937",
   "metadata": {},
   "outputs": [],
   "source": [
    "X_train_res, y_train_res = SmoteENN(X_DF = X_train , y_ser = y_train , samp_strategy = 0.95 )\n",
    "\n",
    "X_test_res , y_test_res = SmoteENN(X_DF = X_test ,  y_ser = y_test , samp_strategy = 0.85)"
   ]
  },
  {
   "cell_type": "code",
   "execution_count": null,
   "id": "786285cd",
   "metadata": {},
   "outputs": [],
   "source": []
  },
  {
   "cell_type": "code",
   "execution_count": 15,
   "id": "da5501f1",
   "metadata": {},
   "outputs": [
    {
     "data": {
      "text/plain": [
       "(4978, 51)"
      ]
     },
     "execution_count": 15,
     "metadata": {},
     "output_type": "execute_result"
    }
   ],
   "source": [
    "X_train_res.shape"
   ]
  },
  {
   "cell_type": "code",
   "execution_count": 16,
   "id": "1b067982",
   "metadata": {},
   "outputs": [
    {
     "data": {
      "text/plain": [
       "(4978,)"
      ]
     },
     "execution_count": 16,
     "metadata": {},
     "output_type": "execute_result"
    }
   ],
   "source": [
    "y_train_res.shape"
   ]
  },
  {
   "cell_type": "code",
   "execution_count": 17,
   "id": "b53078b3",
   "metadata": {},
   "outputs": [
    {
     "data": {
      "text/plain": [
       "1    2828\n",
       "0    2150\n",
       "Name: Churn, dtype: int64"
      ]
     },
     "execution_count": 17,
     "metadata": {},
     "output_type": "execute_result"
    }
   ],
   "source": [
    "y_train_res.value_counts()"
   ]
  },
  {
   "cell_type": "code",
   "execution_count": null,
   "id": "67d75bd2",
   "metadata": {},
   "outputs": [],
   "source": []
  },
  {
   "cell_type": "code",
   "execution_count": 18,
   "id": "96975637",
   "metadata": {},
   "outputs": [
    {
     "data": {
      "text/plain": [
       "(1127, 51)"
      ]
     },
     "execution_count": 18,
     "metadata": {},
     "output_type": "execute_result"
    }
   ],
   "source": [
    "X_test_res.shape"
   ]
  },
  {
   "cell_type": "code",
   "execution_count": 19,
   "id": "bdb43110",
   "metadata": {},
   "outputs": [
    {
     "data": {
      "text/plain": [
       "(1127,)"
      ]
     },
     "execution_count": 19,
     "metadata": {},
     "output_type": "execute_result"
    }
   ],
   "source": [
    "y_test_res.shape"
   ]
  },
  {
   "cell_type": "code",
   "execution_count": 20,
   "id": "e23748b4",
   "metadata": {},
   "outputs": [
    {
     "data": {
      "text/plain": [
       "1    617\n",
       "0    510\n",
       "Name: Churn, dtype: int64"
      ]
     },
     "execution_count": 20,
     "metadata": {},
     "output_type": "execute_result"
    }
   ],
   "source": [
    "y_test_res.value_counts()"
   ]
  },
  {
   "cell_type": "code",
   "execution_count": null,
   "id": "60b0845a",
   "metadata": {},
   "outputs": [],
   "source": []
  },
  {
   "cell_type": "markdown",
   "id": "33d35686",
   "metadata": {},
   "source": [
    "## <span style = 'background :lightblue'>STEP 4 : Training models</span>"
   ]
  },
  {
   "cell_type": "code",
   "execution_count": null,
   "id": "60f20438",
   "metadata": {},
   "outputs": [],
   "source": []
  },
  {
   "cell_type": "code",
   "execution_count": 21,
   "id": "ea047f42",
   "metadata": {},
   "outputs": [],
   "source": [
    "from sklearn.metrics import classification_report"
   ]
  },
  {
   "cell_type": "code",
   "execution_count": null,
   "id": "18d797ff",
   "metadata": {},
   "outputs": [],
   "source": []
  },
  {
   "cell_type": "code",
   "execution_count": 22,
   "id": "aef2672c",
   "metadata": {},
   "outputs": [],
   "source": [
    "from sklearn.linear_model import LogisticRegression\n",
    "from sklearn.svm import SVC\n",
    "from sklearn.naive_bayes import GaussianNB\n",
    "from sklearn.tree import DecisionTreeClassifier\n",
    "from sklearn.ensemble import RandomForestClassifier"
   ]
  },
  {
   "cell_type": "code",
   "execution_count": null,
   "id": "004a33ca",
   "metadata": {},
   "outputs": [],
   "source": []
  },
  {
   "cell_type": "code",
   "execution_count": 23,
   "id": "581328dd",
   "metadata": {},
   "outputs": [],
   "source": [
    "models = [LogisticRegression(max_iter=1000), SVC(), GaussianNB(),DecisionTreeClassifier(), RandomForestClassifier()]"
   ]
  },
  {
   "cell_type": "code",
   "execution_count": null,
   "id": "61d9e359",
   "metadata": {},
   "outputs": [],
   "source": []
  },
  {
   "cell_type": "code",
   "execution_count": 24,
   "id": "f53f14be",
   "metadata": {
    "scrolled": true
   },
   "outputs": [],
   "source": [
    "def ModelTraining(ML_models , X_train ,y_train ,X_test,y_test):\n",
    "    \n",
    "    for model in ML_models :\n",
    "\n",
    "        model.fit(X_train_res.values, y_train_res)\n",
    "        y_hat_train = model.predict(X_train_res.values)\n",
    "        y_hat_test = model.predict(X_test_res.values)\n",
    "\n",
    "        print(f\"******************* \\33[1m{str(model)}\\33[0m *******************\\n\")\n",
    "\n",
    "        print(\"\\33[1mTraining classification Report :\\33[0m \\n\")\n",
    "        print(classification_report(y_train_res,y_hat_train ,zero_division = 1))\n",
    "\n",
    "        print() \n",
    "\n",
    "        print(\"\\33[1mTesting classification Report :\\33[0m \\n\")\n",
    "        print(classification_report(y_test_res,y_hat_test , zero_division = 1))\n",
    "\n",
    "        print()\n",
    "        "
   ]
  },
  {
   "cell_type": "code",
   "execution_count": 25,
   "id": "cf1269fe",
   "metadata": {},
   "outputs": [],
   "source": [
    "# X_train_res, y_train_res ,X_test_res , y_test_res"
   ]
  },
  {
   "cell_type": "code",
   "execution_count": 26,
   "id": "bb5a8c67",
   "metadata": {
    "scrolled": false
   },
   "outputs": [
    {
     "name": "stdout",
     "output_type": "stream",
     "text": [
      "******************* \u001b[1mLogisticRegression(max_iter=1000)\u001b[0m *******************\n",
      "\n",
      "\u001b[1mTraining classification Report :\u001b[0m \n",
      "\n",
      "              precision    recall  f1-score   support\n",
      "\n",
      "           0       0.94      0.95      0.94      2150\n",
      "           1       0.96      0.96      0.96      2828\n",
      "\n",
      "    accuracy                           0.95      4978\n",
      "   macro avg       0.95      0.95      0.95      4978\n",
      "weighted avg       0.95      0.95      0.95      4978\n",
      "\n",
      "\n",
      "\u001b[1mTesting classification Report :\u001b[0m \n",
      "\n",
      "              precision    recall  f1-score   support\n",
      "\n",
      "           0       0.91      0.95      0.93       510\n",
      "           1       0.95      0.92      0.94       617\n",
      "\n",
      "    accuracy                           0.93      1127\n",
      "   macro avg       0.93      0.93      0.93      1127\n",
      "weighted avg       0.93      0.93      0.93      1127\n",
      "\n",
      "\n",
      "******************* \u001b[1mSVC()\u001b[0m *******************\n",
      "\n",
      "\u001b[1mTraining classification Report :\u001b[0m \n",
      "\n",
      "              precision    recall  f1-score   support\n",
      "\n",
      "           0       0.96      0.97      0.96      2150\n",
      "           1       0.97      0.97      0.97      2828\n",
      "\n",
      "    accuracy                           0.97      4978\n",
      "   macro avg       0.97      0.97      0.97      4978\n",
      "weighted avg       0.97      0.97      0.97      4978\n",
      "\n",
      "\n",
      "\u001b[1mTesting classification Report :\u001b[0m \n",
      "\n",
      "              precision    recall  f1-score   support\n",
      "\n",
      "           0       0.89      0.94      0.91       510\n",
      "           1       0.95      0.90      0.92       617\n",
      "\n",
      "    accuracy                           0.92      1127\n",
      "   macro avg       0.92      0.92      0.92      1127\n",
      "weighted avg       0.92      0.92      0.92      1127\n",
      "\n",
      "\n",
      "******************* \u001b[1mGaussianNB()\u001b[0m *******************\n",
      "\n",
      "\u001b[1mTraining classification Report :\u001b[0m \n",
      "\n",
      "              precision    recall  f1-score   support\n",
      "\n",
      "           0       0.90      0.86      0.88      2150\n",
      "           1       0.90      0.93      0.91      2828\n",
      "\n",
      "    accuracy                           0.90      4978\n",
      "   macro avg       0.90      0.90      0.90      4978\n",
      "weighted avg       0.90      0.90      0.90      4978\n",
      "\n",
      "\n",
      "\u001b[1mTesting classification Report :\u001b[0m \n",
      "\n",
      "              precision    recall  f1-score   support\n",
      "\n",
      "           0       0.89      0.85      0.87       510\n",
      "           1       0.88      0.91      0.90       617\n",
      "\n",
      "    accuracy                           0.88      1127\n",
      "   macro avg       0.89      0.88      0.88      1127\n",
      "weighted avg       0.88      0.88      0.88      1127\n",
      "\n",
      "\n",
      "******************* \u001b[1mDecisionTreeClassifier()\u001b[0m *******************\n",
      "\n",
      "\u001b[1mTraining classification Report :\u001b[0m \n",
      "\n",
      "              precision    recall  f1-score   support\n",
      "\n",
      "           0       1.00      1.00      1.00      2150\n",
      "           1       1.00      1.00      1.00      2828\n",
      "\n",
      "    accuracy                           1.00      4978\n",
      "   macro avg       1.00      1.00      1.00      4978\n",
      "weighted avg       1.00      1.00      1.00      4978\n",
      "\n",
      "\n",
      "\u001b[1mTesting classification Report :\u001b[0m \n",
      "\n",
      "              precision    recall  f1-score   support\n",
      "\n",
      "           0       0.83      0.90      0.86       510\n",
      "           1       0.91      0.85      0.88       617\n",
      "\n",
      "    accuracy                           0.87      1127\n",
      "   macro avg       0.87      0.87      0.87      1127\n",
      "weighted avg       0.87      0.87      0.87      1127\n",
      "\n",
      "\n",
      "******************* \u001b[1mRandomForestClassifier()\u001b[0m *******************\n",
      "\n",
      "\u001b[1mTraining classification Report :\u001b[0m \n",
      "\n",
      "              precision    recall  f1-score   support\n",
      "\n",
      "           0       1.00      1.00      1.00      2150\n",
      "           1       1.00      1.00      1.00      2828\n",
      "\n",
      "    accuracy                           1.00      4978\n",
      "   macro avg       1.00      1.00      1.00      4978\n",
      "weighted avg       1.00      1.00      1.00      4978\n",
      "\n",
      "\n",
      "\u001b[1mTesting classification Report :\u001b[0m \n",
      "\n",
      "              precision    recall  f1-score   support\n",
      "\n",
      "           0       0.87      0.93      0.90       510\n",
      "           1       0.94      0.88      0.91       617\n",
      "\n",
      "    accuracy                           0.91      1127\n",
      "   macro avg       0.90      0.91      0.90      1127\n",
      "weighted avg       0.91      0.91      0.91      1127\n",
      "\n",
      "\n"
     ]
    }
   ],
   "source": [
    "ModelTraining(ML_models = models ,  X_train = X_train_res ,y_train = y_train_res ,\n",
    "              X_test = X_test_res, y_test = y_test_res)"
   ]
  },
  {
   "cell_type": "code",
   "execution_count": null,
   "id": "07880d2d",
   "metadata": {},
   "outputs": [],
   "source": []
  },
  {
   "cell_type": "markdown",
   "id": "71f8d4c0",
   "metadata": {},
   "source": [
    "## Hyperparameter Tuning "
   ]
  },
  {
   "cell_type": "code",
   "execution_count": null,
   "id": "a616fe0f",
   "metadata": {},
   "outputs": [],
   "source": []
  },
  {
   "cell_type": "markdown",
   "id": "f1449494",
   "metadata": {},
   "source": [
    "### Best Performed Model : Logistic Regression"
   ]
  },
  {
   "cell_type": "code",
   "execution_count": null,
   "id": "93b3ab48",
   "metadata": {},
   "outputs": [],
   "source": []
  },
  {
   "cell_type": "code",
   "execution_count": 27,
   "id": "eda9666b",
   "metadata": {},
   "outputs": [],
   "source": [
    "from sklearn.model_selection import GridSearchCV"
   ]
  },
  {
   "cell_type": "code",
   "execution_count": 28,
   "id": "6f8fb8e1",
   "metadata": {},
   "outputs": [],
   "source": [
    "log_reg = LogisticRegression()"
   ]
  },
  {
   "cell_type": "code",
   "execution_count": null,
   "id": "fdb938ee",
   "metadata": {},
   "outputs": [],
   "source": []
  },
  {
   "cell_type": "code",
   "execution_count": 30,
   "id": "5ceb3c07",
   "metadata": {},
   "outputs": [],
   "source": [
    "Param_grid = [\n",
    "                {\n",
    "                    \"solver\": ['newton-cg', 'lbfgs'],\n",
    "                    \"C\": [100, 10, 1.0, 0.1, 0.01]\n",
    "                }\n",
    "             ]"
   ]
  },
  {
   "cell_type": "code",
   "execution_count": null,
   "id": "935b7f3c",
   "metadata": {},
   "outputs": [],
   "source": []
  },
  {
   "cell_type": "code",
   "execution_count": 33,
   "id": "7e4c590b",
   "metadata": {},
   "outputs": [],
   "source": [
    "def GridCV(Model , Param_Grid ,Scoring , CV ,X_train ,y_train ,X_test ,y_test):\n",
    "    \n",
    "    # Creating object of GridSearchCV class\n",
    "    grid_search = GridSearchCV(estimator = Model, param_grid =  Param_Grid, \n",
    "                               scoring = Scoring , cv = CV)\n",
    "    \n",
    "    # Fitting to the object\n",
    "    grid_search.fit(X_train.values , y_train)\n",
    "    \n",
    "    # Printing the Best parameters\n",
    "    print(\"Grid Search CV Best Parameters : \",grid_search.best_params_)\n",
    "    \n",
    "    # Mean cross-validated score of the best_estimator\n",
    "    print(\"Grid Search CV Best Score : \",grid_search.best_score_,\"\\n\")\n",
    "    \n",
    "    # Best Fitted Model\n",
    "    best_model = grid_search.best_estimator_\n",
    "    \n",
    "    # Prediction : Trian and Test\n",
    "    y_hat_GSCV_train = best_model.predict(X_train.values)\n",
    "    y_hat_GSCV_test = best_model.predict(X_test.values)\n",
    "    \n",
    "    print(\"\\33[1mTraining classification Report :\\33[0m \\n\")\n",
    "    print(classification_report(y_train,y_hat_GSCV_train ,zero_division = 1))\n",
    "\n",
    "    print() \n",
    "\n",
    "    print(\"\\33[1mTesting classification Report :\\33[0m \\n\")\n",
    "    print(classification_report(y_test,y_hat_GSCV_test , zero_division = 1))\n",
    "\n",
    "    print()\n",
    "    "
   ]
  },
  {
   "cell_type": "code",
   "execution_count": null,
   "id": "e8e76e6a",
   "metadata": {},
   "outputs": [],
   "source": []
  },
  {
   "cell_type": "code",
   "execution_count": 34,
   "id": "47e3ded3",
   "metadata": {},
   "outputs": [
    {
     "name": "stdout",
     "output_type": "stream",
     "text": [
      "Grid Search CV Best Parameters :  {'C': 100, 'solver': 'newton-cg'}\n",
      "Grid Search CV Best Score :  0.9509918951459764 \n",
      "\n",
      "\u001b[1mTraining classification Report :\u001b[0m \n",
      "\n",
      "              precision    recall  f1-score   support\n",
      "\n",
      "           0       0.94      0.95      0.95      2150\n",
      "           1       0.96      0.96      0.96      2828\n",
      "\n",
      "    accuracy                           0.95      4978\n",
      "   macro avg       0.95      0.95      0.95      4978\n",
      "weighted avg       0.95      0.95      0.95      4978\n",
      "\n",
      "\n",
      "\u001b[1mTesting classification Report :\u001b[0m \n",
      "\n",
      "              precision    recall  f1-score   support\n",
      "\n",
      "           0       0.90      0.95      0.93       510\n",
      "           1       0.95      0.92      0.94       617\n",
      "\n",
      "    accuracy                           0.93      1127\n",
      "   macro avg       0.93      0.93      0.93      1127\n",
      "weighted avg       0.93      0.93      0.93      1127\n",
      "\n",
      "\n"
     ]
    }
   ],
   "source": [
    "GridCV(Model = log_reg , Param_Grid = Param_grid ,Scoring = \"accuracy\" , CV = 10 ,\n",
    "       X_train = X_train_res ,y_train = y_train_res , X_test = X_test_res, y_test = y_test_res)\n",
    "             "
   ]
  },
  {
   "cell_type": "code",
   "execution_count": null,
   "id": "e42c7adb",
   "metadata": {},
   "outputs": [],
   "source": []
  },
  {
   "cell_type": "code",
   "execution_count": null,
   "id": "ae4cbc34",
   "metadata": {},
   "outputs": [],
   "source": []
  }
 ],
 "metadata": {
  "kernelspec": {
   "display_name": "Python 3 (ipykernel)",
   "language": "python",
   "name": "python3"
  },
  "language_info": {
   "codemirror_mode": {
    "name": "ipython",
    "version": 3
   },
   "file_extension": ".py",
   "mimetype": "text/x-python",
   "name": "python",
   "nbconvert_exporter": "python",
   "pygments_lexer": "ipython3",
   "version": "3.10.9"
  }
 },
 "nbformat": 4,
 "nbformat_minor": 5
}
